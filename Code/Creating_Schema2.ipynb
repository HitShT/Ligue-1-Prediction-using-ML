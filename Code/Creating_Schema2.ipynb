{
  "nbformat": 4,
  "nbformat_minor": 0,
  "metadata": {
    "colab": {
      "name": "Creating Schema2",
      "provenance": []
    },
    "kernelspec": {
      "name": "python3",
      "display_name": "Python 3"
    }
  },
  "cells": [
    {
      "cell_type": "code",
      "metadata": {
        "id": "apP5f8QOWXf8",
        "colab_type": "code",
        "colab": {}
      },
      "source": [
        "from google.colab import drive"
      ],
      "execution_count": 0,
      "outputs": []
    },
    {
      "cell_type": "markdown",
      "metadata": {
        "id": "hR795Elqk38R",
        "colab_type": "text"
      },
      "source": [
        ""
      ]
    },
    {
      "cell_type": "code",
      "metadata": {
        "id": "RGz5v27JWd3K",
        "colab_type": "code",
        "outputId": "eef9bb7f-af7c-41ce-ebe9-e240bed68ca5",
        "colab": {
          "base_uri": "https://localhost:8080/",
          "height": 130
        }
      },
      "source": [
        "drive.mount(\"/content/drive\",force_remount=True)"
      ],
      "execution_count": 0,
      "outputs": [
        {
          "output_type": "stream",
          "text": [
            "Go to this URL in a browser: https://accounts.google.com/o/oauth2/auth?client_id=947318989803-6bn6qk8qdgf4n4g3pfee6491hc0brc4i.apps.googleusercontent.com&redirect_uri=urn%3Aietf%3Awg%3Aoauth%3A2.0%3Aoob&scope=email%20https%3A%2F%2Fwww.googleapis.com%2Fauth%2Fdocs.test%20https%3A%2F%2Fwww.googleapis.com%2Fauth%2Fdrive%20https%3A%2F%2Fwww.googleapis.com%2Fauth%2Fdrive.photos.readonly%20https%3A%2F%2Fwww.googleapis.com%2Fauth%2Fpeopleapi.readonly&response_type=code\n",
            "\n",
            "Enter your authorization code:\n",
            "··········\n",
            "Mounted at /content/drive\n"
          ],
          "name": "stdout"
        }
      ]
    },
    {
      "cell_type": "code",
      "metadata": {
        "id": "dAmfQwLuWgIP",
        "colab_type": "code",
        "colab": {}
      },
      "source": [
        "import pandas as pd\n",
        "import numpy as np"
      ],
      "execution_count": 0,
      "outputs": []
    },
    {
      "cell_type": "code",
      "metadata": {
        "id": "S6mIBMU8Wp2G",
        "colab_type": "code",
        "colab": {}
      },
      "source": [
        "teams=pd.read_csv(\"/content/drive/My Drive/ML Project_Prediction/Team Pos_year - Sheet1.csv\")"
      ],
      "execution_count": 0,
      "outputs": []
    },
    {
      "cell_type": "code",
      "metadata": {
        "id": "GzjWwcskX1o9",
        "colab_type": "code",
        "colab": {}
      },
      "source": [
        "teams=teams.rename(columns={\"Pos\":\"Teams\",\"Pos.1\":\"Pos\"})\n",
        "tm=[]\n",
        "tm.append(list((teams.loc[teams[\"Year\"]==15])[\"Teams\"]))\n",
        "tm.append(list((teams.loc[teams[\"Year\"]==16])[\"Teams\"]))\n",
        "tm.append(list((teams.loc[teams[\"Year\"]==17])[\"Teams\"]))\n",
        "tm.append(list((teams.loc[teams[\"Year\"]==18])[\"Teams\"]))\n",
        "tm.append(list((teams.loc[teams[\"Year\"]==19])[\"Teams\"]))"
      ],
      "execution_count": 0,
      "outputs": []
    },
    {
      "cell_type": "code",
      "metadata": {
        "id": "gRadz1eZYFiT",
        "colab_type": "code",
        "colab": {}
      },
      "source": [
        "players=pd.read_csv(\"/content/drive/My Drive/ML Project_Prediction/Schema 1 - Sheet1.csv\")"
      ],
      "execution_count": 0,
      "outputs": []
    },
    {
      "cell_type": "code",
      "metadata": {
        "id": "fSRNZFCcjioJ",
        "colab_type": "code",
        "outputId": "685b6319-d4ef-4d02-fead-fb3e99ac2483",
        "colab": {
          "base_uri": "https://localhost:8080/",
          "height": 206
        }
      },
      "source": [
        "players.head()"
      ],
      "execution_count": 0,
      "outputs": [
        {
          "output_type": "execute_result",
          "data": {
            "text/html": [
              "<div>\n",
              "<style scoped>\n",
              "    .dataframe tbody tr th:only-of-type {\n",
              "        vertical-align: middle;\n",
              "    }\n",
              "\n",
              "    .dataframe tbody tr th {\n",
              "        vertical-align: top;\n",
              "    }\n",
              "\n",
              "    .dataframe thead th {\n",
              "        text-align: right;\n",
              "    }\n",
              "</style>\n",
              "<table border=\"1\" class=\"dataframe\">\n",
              "  <thead>\n",
              "    <tr style=\"text-align: right;\">\n",
              "      <th></th>\n",
              "      <th>Sl</th>\n",
              "      <th>Name</th>\n",
              "      <th>Pos</th>\n",
              "      <th>Rating</th>\n",
              "      <th>Team</th>\n",
              "      <th>FIFA</th>\n",
              "    </tr>\n",
              "  </thead>\n",
              "  <tbody>\n",
              "    <tr>\n",
              "      <th>0</th>\n",
              "      <td>1</td>\n",
              "      <td>Zlatan Ibrahimović</td>\n",
              "      <td>fw</td>\n",
              "      <td>90</td>\n",
              "      <td>Paris Saint-Germain</td>\n",
              "      <td>15</td>\n",
              "    </tr>\n",
              "    <tr>\n",
              "      <th>1</th>\n",
              "      <td>2</td>\n",
              "      <td>Thiago Emiliano da Silva</td>\n",
              "      <td>df</td>\n",
              "      <td>87</td>\n",
              "      <td>Paris Saint-Germain</td>\n",
              "      <td>15</td>\n",
              "    </tr>\n",
              "    <tr>\n",
              "      <th>2</th>\n",
              "      <td>3</td>\n",
              "      <td>Edinson Roberto Cavani Gómez</td>\n",
              "      <td>fw</td>\n",
              "      <td>85</td>\n",
              "      <td>Paris Saint-Germain</td>\n",
              "      <td>15</td>\n",
              "    </tr>\n",
              "    <tr>\n",
              "      <th>3</th>\n",
              "      <td>4</td>\n",
              "      <td>Salvatore Sirigu</td>\n",
              "      <td>gk</td>\n",
              "      <td>84</td>\n",
              "      <td>Paris Saint-Germain</td>\n",
              "      <td>15</td>\n",
              "    </tr>\n",
              "    <tr>\n",
              "      <th>4</th>\n",
              "      <td>5</td>\n",
              "      <td>Blaise Matuidi</td>\n",
              "      <td>mf</td>\n",
              "      <td>83</td>\n",
              "      <td>Paris Saint-Germain</td>\n",
              "      <td>15</td>\n",
              "    </tr>\n",
              "  </tbody>\n",
              "</table>\n",
              "</div>"
            ],
            "text/plain": [
              "   Sl                          Name Pos  Rating                 Team  FIFA\n",
              "0   1            Zlatan Ibrahimović  fw      90  Paris Saint-Germain    15\n",
              "1   2      Thiago Emiliano da Silva  df      87  Paris Saint-Germain    15\n",
              "2   3  Edinson Roberto Cavani Gómez  fw      85  Paris Saint-Germain    15\n",
              "3   4              Salvatore Sirigu  gk      84  Paris Saint-Germain    15\n",
              "4   5                Blaise Matuidi  mf      83  Paris Saint-Germain    15"
            ]
          },
          "metadata": {
            "tags": []
          },
          "execution_count": 7
        }
      ]
    },
    {
      "cell_type": "code",
      "metadata": {
        "id": "JH_C26praAab",
        "colab_type": "code",
        "colab": {}
      },
      "source": [
        "all_pos=[] #Gk,Def,Mid,Att\n",
        "for i in range(4):\n",
        "  all_pos.append([])\n",
        "for index,row in players.iterrows():\n",
        "  if(row[\"Pos\"]==\"gk\"):\n",
        "    all_pos[0].append([row[\"Name\"],row[\"Rating\"],row[\"Team\"],row[\"FIFA\"]])\n",
        "  elif(row[\"Pos\"]==\"df\"):\n",
        "    all_pos[1].append([row[\"Name\"],row[\"Rating\"],row[\"Team\"],row[\"FIFA\"]])\n",
        "  elif(row[\"Pos\"]==\"mf\"):\n",
        "    all_pos[2].append([row[\"Name\"],row[\"Rating\"],row[\"Team\"],row[\"FIFA\"]])\n",
        "  elif(row[\"Pos\"]==\"fw\"):\n",
        "    all_pos[3].append([row[\"Name\"],row[\"Rating\"],row[\"Team\"],row[\"FIFA\"]])"
      ],
      "execution_count": 0,
      "outputs": []
    },
    {
      "cell_type": "code",
      "metadata": {
        "id": "px5K0qP1bx2Y",
        "colab_type": "code",
        "colab": {}
      },
      "source": [
        "t_r=[]\n",
        "tmp={}\n",
        "for i in tm:\n",
        "  for j in i:\n",
        "    tmp[j]=[]\n",
        "  t_r.append(tmp)\n",
        "  tmp={}\n"
      ],
      "execution_count": 0,
      "outputs": []
    },
    {
      "cell_type": "markdown",
      "metadata": {
        "id": "s_4R0gAwcfYW",
        "colab_type": "text"
      },
      "source": [
        "t_r => teams_ratings\n",
        "\n",
        "In t_r we have all teams from 15 to 19, with index 0 being 15 and 19 being index 4.\n",
        "\n",
        "In the list as value, we will store values as\n",
        "\n",
        "0=>Gk\n",
        "\n",
        "1=>Def\n",
        "\n",
        "2=>Mid\n",
        "\n",
        "3=>Att"
      ]
    },
    {
      "cell_type": "code",
      "metadata": {
        "id": "C8skes9CjMmp",
        "colab_type": "code",
        "outputId": "2dc47464-c7c7-4298-fb65-8fff00a8abf3",
        "colab": {
          "base_uri": "https://localhost:8080/",
          "height": 387
        }
      },
      "source": [
        "for i in tm[0]:\n",
        "  print(i)"
      ],
      "execution_count": 0,
      "outputs": [
        {
          "output_type": "stream",
          "text": [
            "Paris Saint-Germain\n",
            "Olympique Lyonnais\n",
            "AS Monaco\n",
            "Olympique de Marseille\n",
            "AS Saint-Étienne\n",
            "FC Girondins de Bordeaux\n",
            "Montpellier HSC\n",
            "LOSC Lille\n",
            "Stade Rennais FC\n",
            "En Avant de Guingamp\n",
            "OGC Nice\n",
            "Sporting Club de Bastia\n",
            "Stade Malherbe Caen\n",
            "FC Nantes\n",
            "Stade de Reims\n",
            "FC Lorient\n",
            "Toulouse Football Club\n",
            "Évian Thonon Gaillard FC\n",
            "FC Metz\n",
            "Racing Club de Lens\n"
          ],
          "name": "stdout"
        }
      ]
    },
    {
      "cell_type": "code",
      "metadata": {
        "id": "WiKEL_UzdPTQ",
        "colab_type": "code",
        "colab": {}
      },
      "source": [
        "for j in range(len(tm)):\n",
        "  for i in tm[j]:\n",
        "    gk=0\n",
        "    gk_ct=0\n",
        "    df=0\n",
        "    df_ct=0\n",
        "    md=0\n",
        "    md_ct=0\n",
        "    at=0\n",
        "    at_ct=0\n",
        "    for index,row in players.iterrows():\n",
        "      if(row[\"Team\"]==i and row[\"Pos\"]==\"gk\"):\n",
        "        gk+=row[\"Rating\"]\n",
        "        gk_ct+=1\n",
        "      if(row[\"Team\"]==i and row[\"Pos\"]==\"df\"):\n",
        "        df+=row[\"Rating\"]\n",
        "        df_ct+=1\n",
        "      if(row[\"Team\"]==i and row[\"Pos\"]==\"mf\"):\n",
        "        md+=row[\"Rating\"]\n",
        "        md_ct+=1\n",
        "      if(row[\"Team\"]==i and row[\"Pos\"]==\"fw\"):\n",
        "        at+=row[\"Rating\"]\n",
        "        at_ct+=1\n",
        "    temp=[gk/gk_ct,df/df_ct,md/md_ct,at/at_ct,gk/gk_ct]\n",
        "    temp.append(sum(temp))\n",
        "    t_r[j][i]=temp"
      ],
      "execution_count": 0,
      "outputs": []
    },
    {
      "cell_type": "code",
      "metadata": {
        "id": "kdypLe3Ai3fs",
        "colab_type": "code",
        "colab": {}
      },
      "source": [
        "import csv"
      ],
      "execution_count": 0,
      "outputs": []
    },
    {
      "cell_type": "code",
      "metadata": {
        "id": "Maw9EqaTgo1F",
        "colab_type": "code",
        "colab": {}
      },
      "source": [
        "with open(\"/content/drive/My Drive/ML Project_Prediction/Schema 2 - Schema 2 - Sheet1.csv\",\"w\",newline='') as myfile:\n",
        "  wr=csv.writer(myfile,delimiter=',',quotechar='|',quoting=csv.QUOTE_MINIMAL)\n",
        "  wr.writerow([\"Sl\",\"Year\",\"Team\",\"Gk\",\"Def\",\"Mid\",\"Att\",\"Sum\"])"
      ],
      "execution_count": 0,
      "outputs": []
    },
    {
      "cell_type": "code",
      "metadata": {
        "id": "C6acXTuuZHXD",
        "colab_type": "code",
        "colab": {}
      },
      "source": [
        "ind=1\n",
        "with open(\"/content/drive/My Drive/ML Project_Prediction/Schema 2 - Schema 2 - Sheet1.csv\",\"a\",newline='') as myfile:\n",
        "  wr=csv.writer(myfile,delimiter=',',quotechar='|',quoting=csv.QUOTE_MINIMAL)\n",
        "  for i in range(len(tm)):\n",
        "    for j in tm[i]:\n",
        "      wr.writerow([ind,15+i,j,t_r[i][j][0],t_r[i][j][1],t_r[i][j][2],t_r[i][j][3],t_r[i][j][4]])\n",
        "      ind+=1"
      ],
      "execution_count": 0,
      "outputs": []
    },
    {
      "cell_type": "code",
      "metadata": {
        "id": "fjqoWgw-hO-_",
        "colab_type": "code",
        "colab": {}
      },
      "source": [
        ""
      ],
      "execution_count": 0,
      "outputs": []
    }
  ]
}