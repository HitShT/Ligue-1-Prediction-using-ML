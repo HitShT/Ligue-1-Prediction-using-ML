{
  "nbformat": 4,
  "nbformat_minor": 0,
  "metadata": {
    "colab": {
      "name": "Schema 3",
      "provenance": []
    },
    "kernelspec": {
      "name": "python3",
      "display_name": "Python 3"
    }
  },
  "cells": [
    {
      "cell_type": "code",
      "metadata": {
        "id": "WwrN0gH387r2",
        "colab_type": "code",
        "outputId": "707a054c-69ed-4f4d-ab40-78b593d409c3",
        "colab": {
          "base_uri": "https://localhost:8080/",
          "height": 36
        }
      },
      "source": [
        "from google.colab import drive\n",
        "drive.mount(\"/content/drive\",force_remount=True)"
      ],
      "execution_count": 0,
      "outputs": [
        {
          "output_type": "stream",
          "text": [
            "Mounted at /content/drive\n"
          ],
          "name": "stdout"
        }
      ]
    },
    {
      "cell_type": "code",
      "metadata": {
        "id": "EXhDqX-89FNp",
        "colab_type": "code",
        "colab": {}
      },
      "source": [
        "import pandas as pd\n",
        "import numpy as np"
      ],
      "execution_count": 0,
      "outputs": []
    },
    {
      "cell_type": "code",
      "metadata": {
        "id": "F4Omt4Zf9PWH",
        "colab_type": "code",
        "colab": {}
      },
      "source": [
        "res=[pd.read_csv(\"/content/drive/My Drive/ML Project_Prediction/Dataset_results_10/season-0910_csv.csv\"),pd.read_csv(\"/content/drive/My Drive/ML Project_Prediction/Dataset_results_10/season-1011_csv.csv\"),pd.read_csv(\"/content/drive/My Drive/ML Project_Prediction/Dataset_results_10/season-1112_csv.csv\"),pd.read_csv(\"/content/drive/My Drive/ML Project_Prediction/Dataset_results_10/season-1213_csv.csv\"),pd.read_csv(\"/content/drive/My Drive/ML Project_Prediction/Dataset_results_10/season-1314_csv.csv\"),pd.read_csv(\"/content/drive/My Drive/ML Project_Prediction/Dataset_results_10/season-1415_csv.csv\"),pd.read_csv(\"/content/drive/My Drive/ML Project_Prediction/Dataset_results_10/season-1516_csv.csv\"),pd.read_csv(\"/content/drive/My Drive/ML Project_Prediction/Dataset_results_10/season-1617_csv.csv\"),pd.read_csv(\"/content/drive/My Drive/ML Project_Prediction/Dataset_results_10/season-1718_csv.csv\"),pd.read_csv(\"/content/drive/My Drive/ML Project_Prediction/Dataset_results_10/season-1819_csv.csv\")]"
      ],
      "execution_count": 0,
      "outputs": []
    },
    {
      "cell_type": "code",
      "metadata": {
        "id": "Eb7dUipKMXUL",
        "colab_type": "code",
        "colab": {}
      },
      "source": [
        "import csv"
      ],
      "execution_count": 0,
      "outputs": []
    },
    {
      "cell_type": "code",
      "metadata": {
        "id": "U7NHFWGmgQCD",
        "colab_type": "code",
        "colab": {}
      },
      "source": [
        "rank=pd.read_csv(\"/content/drive/My Drive/ML Project_Prediction/Average Rank - Sheet1.csv\")"
      ],
      "execution_count": 0,
      "outputs": []
    },
    {
      "cell_type": "code",
      "metadata": {
        "id": "cJUtL_tSMVFh",
        "colab_type": "code",
        "colab": {}
      },
      "source": [
        "ind=1"
      ],
      "execution_count": 0,
      "outputs": []
    },
    {
      "cell_type": "code",
      "metadata": {
        "id": "-Rvms_iKmcAO",
        "colab_type": "code",
        "colab": {}
      },
      "source": [
        "for i in range(10):\n",
        "  res[i][\"HomeTeam\"]=res[i][\"HomeTeam\"].replace(\"Saint-Étienne\",\"AS Saint-Étienne\")\n",
        "  res[i][\"HomeTeam\"]=res[i][\"HomeTeam\"].replace(\"Ajaccio\",\"AC Ajaccio\")\n",
        "  res[i][\"HomeTeam\"]=res[i][\"HomeTeam\"].replace(\"Amiens\",\"Amiens SC\")\n",
        "  res[i][\"HomeTeam\"]=res[i][\"HomeTeam\"].replace(\"Angers\",\"Angers SCO\")\n",
        "  res[i][\"HomeTeam\"]=res[i][\"HomeTeam\"].replace(\"Bastia\",\"Sporting Club de Bastia\")\n",
        "  res[i][\"HomeTeam\"]=res[i][\"HomeTeam\"].replace(\"Bordeaux\",\"FC Girondins de Bordeaux\")\n",
        "  res[i][\"HomeTeam\"]=res[i][\"HomeTeam\"].replace(\"Boulogne\\xa0\",\"Boulogne\")\n",
        "  res[i][\"HomeTeam\"]=res[i][\"HomeTeam\"].replace(\"Brest\",\"Stade Brestois 29\")\n",
        "  res[i][\"HomeTeam\"]=res[i][\"HomeTeam\"].replace(\"Caen\",\"Stade Malherbe Caen\")\n",
        "  res[i][\"HomeTeam\"]=res[i][\"HomeTeam\"].replace(\"Dijon\",\"Dijon FCO\")\n",
        "  res[i][\"HomeTeam\"]=res[i][\"HomeTeam\"].replace(\"Evian\",\"Évian Thonon Gaillard FC\")\n",
        "  res[i][\"HomeTeam\"]=res[i][\"HomeTeam\"].replace(\"Guingamp\",\"En Avant de Guingamp\")\n",
        "  res[i][\"HomeTeam\"]=res[i][\"HomeTeam\"].replace(\"Lens\",\"Racing Club de Lens\")\n",
        "  res[i][\"HomeTeam\"]=res[i][\"HomeTeam\"].replace(\"Lile\",\"LOSC Lille\")\n",
        "  res[i][\"HomeTeam\"]=res[i][\"HomeTeam\"].replace(\"Lille\",\"LOSC Lille\")\n",
        "  res[i][\"HomeTeam\"]=res[i][\"HomeTeam\"].replace(\"Lorient\",\"FC Lorient\")\n",
        "  res[i][\"HomeTeam\"]=res[i][\"HomeTeam\"].replace(\"Lyon\",\"Olympique Lyonnais\")\n",
        "  res[i][\"HomeTeam\"]=res[i][\"HomeTeam\"].replace(\"Marseille\\xa0\",\"Olympique de Marseille\")\n",
        "  res[i][\"HomeTeam\"]=res[i][\"HomeTeam\"].replace(\"Metz\",\"FC Metz\")\n",
        "  res[i][\"HomeTeam\"]=res[i][\"HomeTeam\"].replace(\"Monaco\",\"AS Monaco\")\n",
        "  res[i][\"HomeTeam\"]=res[i][\"HomeTeam\"].replace(\"Montpellier\",\"Montpellier HSC\")\n",
        "  res[i][\"HomeTeam\"]=res[i][\"HomeTeam\"].replace(\"Nancy\",\"AS Nancy Lorraine\")\n",
        "  res[i][\"HomeTeam\"]=res[i][\"HomeTeam\"].replace(\"Nantes\",\"FC Nantes\")\n",
        "  res[i][\"HomeTeam\"]=res[i][\"HomeTeam\"].replace(\"Nice\",\"OGC Nice\")\n",
        "  res[i][\"HomeTeam\"]=res[i][\"HomeTeam\"].replace(\"Nîmes\",\"Nîmes Olympique\")\n",
        "  res[i][\"HomeTeam\"]=res[i][\"HomeTeam\"].replace(\"Paris Saint-Germain\",\"Paris Saint-Germain\")\n",
        "  res[i][\"HomeTeam\"]=res[i][\"HomeTeam\"].replace(\"Reims\",\"Stade de Reims\")\n",
        "  res[i][\"HomeTeam\"]=res[i][\"HomeTeam\"].replace(\"Sochaux\",\"RC Strasbourg Alsace\")\n",
        "  res[i][\"HomeTeam\"]=res[i][\"HomeTeam\"].replace(\"Toulouse\",\"Toulouse Football Club\")\n",
        "  res[i][\"HomeTeam\"]=res[i][\"HomeTeam\"].replace(\"Troyes\",\"ESTAC Troyes\")\n",
        "  res[i][\"HomeTeam\"]=res[i][\"HomeTeam\"].replace(\"Paris SG\",\"Paris Saint-Germain\")\n",
        "  res[i][\"HomeTeam\"]=res[i][\"HomeTeam\"].replace(\"St Etienne\",\"AS Saint-Étienne\")\n",
        "  res[i][\"HomeTeam\"]=res[i][\"HomeTeam\"].replace(\"Marseille\",\"Olympique de Marseille\")\n",
        "  res[i][\"HomeTeam\"]=res[i][\"HomeTeam\"].replace(\"Rennes\",\"Stade Rennais FC\")\n",
        "  \n",
        "  res[i][\"AwayTeam\"]=res[i][\"AwayTeam\"].replace(\"Saint-Étienne\",\"AS Saint-Étienne\")\n",
        "  res[i][\"AwayTeam\"]=res[i][\"AwayTeam\"].replace(\"Ajaccio\",\"AC Ajaccio\")\n",
        "  res[i][\"AwayTeam\"]=res[i][\"AwayTeam\"].replace(\"Amiens\",\"Amiens SC\")\n",
        "  res[i][\"AwayTeam\"]=res[i][\"AwayTeam\"].replace(\"Angers\",\"Angers SCO\")\n",
        "  res[i][\"AwayTeam\"]=res[i][\"AwayTeam\"].replace(\"Bastia\",\"Sporting Club de Bastia\")\n",
        "  res[i][\"AwayTeam\"]=res[i][\"AwayTeam\"].replace(\"Bordeaux\",\"FC Girondins de Bordeaux\")\n",
        "  res[i][\"AwayTeam\"]=res[i][\"AwayTeam\"].replace(\"Boulogne\\xa0\",\"Boulogne\")\n",
        "  res[i][\"AwayTeam\"]=res[i][\"AwayTeam\"].replace(\"Brest\",\"Stade Brestois 29\")\n",
        "  res[i][\"AwayTeam\"]=res[i][\"AwayTeam\"].replace(\"Caen\",\"Stade Malherbe Caen\")\n",
        "  res[i][\"AwayTeam\"]=res[i][\"AwayTeam\"].replace(\"Dijon\",\"Dijon FCO\")\n",
        "  res[i][\"AwayTeam\"]=res[i][\"AwayTeam\"].replace(\"Evian\",\"Évian Thonon Gaillard FC\")\n",
        "  res[i][\"AwayTeam\"]=res[i][\"AwayTeam\"].replace(\"Guingamp\",\"En Avant de Guingamp\")\n",
        "  res[i][\"AwayTeam\"]=res[i][\"AwayTeam\"].replace(\"Lens\",\"Racing Club de Lens\")\n",
        "  res[i][\"AwayTeam\"]=res[i][\"AwayTeam\"].replace(\"Lile\",\"LOSC Lille\")\n",
        "  res[i][\"AwayTeam\"]=res[i][\"AwayTeam\"].replace(\"Lille\",\"LOSC Lille\")\n",
        "  res[i][\"AwayTeam\"]=res[i][\"AwayTeam\"].replace(\"Lorient\",\"FC Lorient\")\n",
        "  res[i][\"AwayTeam\"]=res[i][\"AwayTeam\"].replace(\"Lyon\",\"Olympique Lyonnais\")\n",
        "  res[i][\"AwayTeam\"]=res[i][\"AwayTeam\"].replace(\"Marseille\\xa0\",\"Olympique de Marseille\")\n",
        "  res[i][\"AwayTeam\"]=res[i][\"AwayTeam\"].replace(\"Metz\",\"FC Metz\")\n",
        "  res[i][\"AwayTeam\"]=res[i][\"AwayTeam\"].replace(\"Monaco\",\"AS Monaco\")\n",
        "  res[i][\"AwayTeam\"]=res[i][\"AwayTeam\"].replace(\"Montpellier\",\"Montpellier HSC\")\n",
        "  res[i][\"AwayTeam\"]=res[i][\"AwayTeam\"].replace(\"Nancy\",\"AS Nancy Lorraine\")\n",
        "  res[i][\"AwayTeam\"]=res[i][\"AwayTeam\"].replace(\"Nantes\",\"FC Nantes\")\n",
        "  res[i][\"AwayTeam\"]=res[i][\"AwayTeam\"].replace(\"Nice\",\"OGC Nice\")\n",
        "  res[i][\"AwayTeam\"]=res[i][\"AwayTeam\"].replace(\"Nîmes\",\"Nîmes Olympique\")\n",
        "  res[i][\"AwayTeam\"]=res[i][\"AwayTeam\"].replace(\"Paris Saint-Germain\",\"Paris Saint-Germain\")\n",
        "  res[i][\"AwayTeam\"]=res[i][\"AwayTeam\"].replace(\"Reims\",\"Stade de Reims\")\n",
        "  res[i][\"AwayTeam\"]=res[i][\"AwayTeam\"].replace(\"Sochaux\",\"RC Strasbourg Alsace\")\n",
        "  res[i][\"AwayTeam\"]=res[i][\"AwayTeam\"].replace(\"Toulouse\",\"Toulouse Football Club\")\n",
        "  res[i][\"AwayTeam\"]=res[i][\"AwayTeam\"].replace(\"Troyes\",\"ESTAC Troyes\")\n",
        "  res[i][\"AwayTeam\"]=res[i][\"AwayTeam\"].replace(\"Paris SG\",\"Paris Saint-Germain\")\n",
        "  res[i][\"AwayTeam\"]=res[i][\"AwayTeam\"].replace(\"St Etienne\",\"AS Saint-Étienne\")\n",
        "  res[i][\"AwayTeam\"]=res[i][\"AwayTeam\"].replace(\"Marseille\",\"Olympique de Marseille\")\n",
        "  res[i][\"AwayTeam\"]=res[i][\"AwayTeam\"].replace(\"Rennes\",\"Stade Rennais FC\")    \n",
        "\n"
      ],
      "execution_count": 0,
      "outputs": []
    },
    {
      "cell_type": "code",
      "metadata": {
        "id": "7cc8s9AOjtf_",
        "colab_type": "code",
        "colab": {}
      },
      "source": [
        "rank[\"Team\"]=rank[\"Team\"].replace(\"Saint-Étienne\",\"AS Saint-Étienne\")\n",
        "rank[\"Team\"]=rank[\"Team\"].replace(\"Ajaccio\",\"AC Ajaccio\")\n",
        "rank[\"Team\"]=rank[\"Team\"].replace(\"Amiens\",\"Amiens SC\")\n",
        "rank[\"Team\"]=rank[\"Team\"].replace(\"Angers\",\"Angers SCO\")\n",
        "rank[\"Team\"]=rank[\"Team\"].replace(\"Bastia\",\"Sporting Club de Bastia\")\n",
        "rank[\"Team\"]=rank[\"Team\"].replace(\"Bordeaux\",\"FC Girondins de Bordeaux\")\n",
        "rank[\"Team\"]=rank[\"Team\"].replace(\"Boulogne\\xa0\",\"Boulogne\")\n",
        "rank[\"Team\"]=rank[\"Team\"].replace(\"Brest\",\"Stade Brestois 29\")\n",
        "rank[\"Team\"]=rank[\"Team\"].replace(\"Caen\",\"Stade Malherbe Caen\")\n",
        "rank[\"Team\"]=rank[\"Team\"].replace(\"Dijon\",\"Dijon FCO\")\n",
        "rank[\"Team\"]=rank[\"Team\"].replace(\"Evian\",\"Évian Thonon Gaillard FC\")\n",
        "rank[\"Team\"]=rank[\"Team\"].replace(\"Guingamp\",\"En Avant de Guingamp\")\n",
        "rank[\"Team\"]=rank[\"Team\"].replace(\"Lens\",\"Racing Club de Lens\")\n",
        "rank[\"Team\"]=rank[\"Team\"].replace(\"Lile\",\"LOSC Lille\")\n",
        "rank[\"Team\"]=rank[\"Team\"].replace(\"Lille\",\"LOSC Lille\")\n",
        "rank[\"Team\"]=rank[\"Team\"].replace(\"Lorient\",\"FC Lorient\")\n",
        "rank[\"Team\"]=rank[\"Team\"].replace(\"Lyon\",\"Olympique Lyonnais\")\n",
        "rank[\"Team\"]=rank[\"Team\"].replace(\"Marseille\\xa0\",\"Olympique de Marseille\")\n",
        "rank[\"Team\"]=rank[\"Team\"].replace(\"Metz\",\"FC Metz\")\n",
        "rank[\"Team\"]=rank[\"Team\"].replace(\"Monaco\",\"AS Monaco\")\n",
        "rank[\"Team\"]=rank[\"Team\"].replace(\"Montpellier\",\"Montpellier HSC\")\n",
        "rank[\"Team\"]=rank[\"Team\"].replace(\"Nancy\",\"AS Nancy Lorraine\")\n",
        "rank[\"Team\"]=rank[\"Team\"].replace(\"Nantes\",\"FC Nantes\")\n",
        "rank[\"Team\"]=rank[\"Team\"].replace(\"Nice\",\"OGC Nice\")\n",
        "rank[\"Team\"]=rank[\"Team\"].replace(\"Nîmes\",\"Nîmes Olympique\")\n",
        "rank[\"Team\"]=rank[\"Team\"].replace(\"Paris Saint-Germain\",\"Paris Saint-Germain\")\n",
        "rank[\"Team\"]=rank[\"Team\"].replace(\"Reims\",\"Stade de Reims\")\n",
        "rank[\"Team\"]=rank[\"Team\"].replace(\"Sochaux\",\"RC Strasbourg Alsace\")\n",
        "rank[\"Team\"]=rank[\"Team\"].replace(\"Toulouse\",\"Toulouse Football Club\")\n",
        "rank[\"Team\"]=rank[\"Team\"].replace(\"Troyes\",\"ESTAC Troyes\")\n"
      ],
      "execution_count": 0,
      "outputs": []
    },
    {
      "cell_type": "code",
      "metadata": {
        "id": "bwh4m2C4tWEp",
        "colab_type": "code",
        "colab": {}
      },
      "source": [
        "ratings=pd.read_csv(\"/content/drive/My Drive/ML Project_Prediction/Schema 2 - Schema 2 - Sheet1.csv\")"
      ],
      "execution_count": 0,
      "outputs": []
    },
    {
      "cell_type": "code",
      "metadata": {
        "id": "5Raok96tJHiJ",
        "colab_type": "code",
        "colab": {}
      },
      "source": [
        "with open(\"/content/drive/My Drive/ML Project_Prediction/Schema 3 - Sheet1.csv\",\"w\",newline='') as myfile:\n",
        "  wr=csv.writer(myfile,delimiter=',',quotechar='|',quoting=csv.QUOTE_MINIMAL)\n",
        "  wr.writerow([\"Sl\",\"HT\",\"AT\",\"Year\",\"PosnH\",\"PosnA\",\"1H\",\"1D\",\"1A\",\"2H\",\"2D\",\"2A\",\"3H\",\"3D\",\"3A\",\"4H\",\"4D\",\"4A\",\"5H\",\"5D\",\"5A\",\"6H\",\"6D\",\"6A\",\"HGK\",\"HDef\",\"HMid\",\"HFw\",\"AGK\",\"ADef\",\"AMid\",\"AFw\",\"Result\"])"
      ],
      "execution_count": 0,
      "outputs": []
    },
    {
      "cell_type": "code",
      "metadata": {
        "id": "DVYcnlZ-N5hD",
        "colab_type": "code",
        "colab": {}
      },
      "source": [
        "for i in res:\n",
        "  with open(\"/content/drive/My Drive/ML Project_Prediction/Schema 3 - Sheet1.csv\",\"a\",newline='') as myfile:\n",
        "    wr=csv.writer(myfile,delimiter=',',quotechar='|',quoting=csv.QUOTE_MINIMAL)\n",
        "    for index,row in i.iterrows():\n",
        "      ps=str(row[\"Year\"])\n",
        "      if(len(ps)==1):\n",
        "        ps=\"0\"+ps\n",
        "      ps1=0\n",
        "      ps2=0\n",
        "      if(row[\"Year\"]>=15):\n",
        "        for indexx,rows in rank.iterrows():\n",
        "          if(rows[\"Team\"]==row[\"HomeTeam\"]):\n",
        "            ps1=rows[ps]\n",
        "          if(rows[\"Team\"]==row[\"AwayTeam\"]):\n",
        "            ps2=rows[ps]\n",
        "          if(ps==\"09\"):\n",
        "            break\n",
        "        rtg=[60 for x in range(8)]\n",
        "        ps=str(row[\"Year\"])\n",
        "        if(len(ps)==1):\n",
        "          ps=\"0\"+ps\n",
        "        for indexx,rows in ratings.iterrows():\n",
        "          if(rows[\"Team\"]==row[\"HomeTeam\"] and str(rows[\"Year\"])==ps):\n",
        "            rtg[0]=rows[\"Gk\"]\n",
        "            rtg[1]=rows[\"Def\"]\n",
        "            rtg[2]=rows[\"Mid\"]\n",
        "            rtg[3]=rows[\"Att\"]\n",
        "          if(rows[\"Team\"]==row[\"AwayTeam\"] and str(rows[\"Year\"])==ps):\n",
        "            rtg[4]=rows[\"Gk\"]\n",
        "            rtg[5]=rows[\"Def\"]\n",
        "            rtg[6]=rows[\"Mid\"]\n",
        "            rtg[7]=rows[\"Att\"]\n",
        "          \n",
        "        wr.writerow([ind,row[\"HomeTeam\"],row[\"AwayTeam\"],row[\"Year\"],ps1,ps2,row[\"1H\"],row[\"1D\"],row[\"1A\"],row[\"2H\"],row[\"2D\"],row[\"2A\"],row[\"3H\"],row[\"3D\"],row[\"3A\"],row[\"4H\"],row[\"4D\"],row[\"4A\"],row[\"5H\"],row[\"5D\"],row[\"5A\"],row[\"6H\"],row[\"6D\"],row[\"6A\"],rtg[0],rtg[1],rtg[2],rtg[3],rtg[4],rtg[5],rtg[6],rtg[7],row[\"FTR\"]])\n",
        "        ind+=1"
      ],
      "execution_count": 0,
      "outputs": []
    },
    {
      "cell_type": "code",
      "metadata": {
        "id": "TKfEsBitznn_",
        "colab_type": "code",
        "colab": {}
      },
      "source": [
        ""
      ],
      "execution_count": 0,
      "outputs": []
    }
  ]
}