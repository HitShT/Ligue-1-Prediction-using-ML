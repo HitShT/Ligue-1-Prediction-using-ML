{
  "nbformat": 4,
  "nbformat_minor": 0,
  "metadata": {
    "colab": {
      "name": "Creating Schema 1",
      "provenance": []
    },
    "kernelspec": {
      "name": "python3",
      "display_name": "Python 3"
    }
  },
  "cells": [
    {
      "cell_type": "code",
      "metadata": {
        "id": "0u07CQqPSdFe",
        "colab_type": "code",
        "colab": {}
      },
      "source": [
        "def pos(st):\n",
        "  st=st.lower()\n",
        "  if(\"gk\" in st):\n",
        "    return \"gk\"\n",
        "  if(\"lw\" in st or \"rw\" in st or \"cf\" in st or \"rf\" in st or \"lf\" in st or \"st\" in st):\n",
        "    return \"fw\"\n",
        "  if(\"dm\" in st or \"lm\" in st or \"rm\" in st or \"cm\" in st or \"am\" in st):\n",
        "    return \"mf\"\n",
        "  if(\"sw\" in st or \"rwb\" in st or \"lwb\" in st or \"rb\" in st or \"lb\" in st or \"cb\" in st):\n",
        "    return \"df\"\n",
        "  "
      ],
      "execution_count": 0,
      "outputs": []
    },
    {
      "cell_type": "code",
      "metadata": {
        "id": "PLxMAZzOwJiN",
        "colab_type": "code",
        "colab": {}
      },
      "source": [
        "from google.colab import drive"
      ],
      "execution_count": 0,
      "outputs": []
    },
    {
      "cell_type": "code",
      "metadata": {
        "id": "PUNO93YozpNO",
        "colab_type": "code",
        "outputId": "2cac1613-1ed8-4201-a122-69d3315c666c",
        "colab": {
          "base_uri": "https://localhost:8080/",
          "height": 36
        }
      },
      "source": [
        "drive.mount(\"/content/drive\",force_remount=True)"
      ],
      "execution_count": 0,
      "outputs": [
        {
          "output_type": "stream",
          "text": [
            "Mounted at /content/drive\n"
          ],
          "name": "stdout"
        }
      ]
    },
    {
      "cell_type": "code",
      "metadata": {
        "id": "Qm0TQvehz9_j",
        "colab_type": "code",
        "colab": {}
      },
      "source": [
        "import pandas as pd\n",
        "import numpy as np"
      ],
      "execution_count": 0,
      "outputs": []
    },
    {
      "cell_type": "code",
      "metadata": {
        "id": "tEhzJL8_zqeU",
        "colab_type": "code",
        "colab": {}
      },
      "source": [
        "teams=pd.read_csv(\"/content/drive/My Drive/ML Project_Prediction/Team Pos_year - Sheet1.csv\")"
      ],
      "execution_count": 0,
      "outputs": []
    },
    {
      "cell_type": "code",
      "metadata": {
        "id": "wPJlixZ1z5Z_",
        "colab_type": "code",
        "colab": {}
      },
      "source": [
        "fifa15=pd.read_csv(\"/content/drive/My Drive/ML Project_Prediction/FIFA15.csv\")"
      ],
      "execution_count": 0,
      "outputs": []
    },
    {
      "cell_type": "code",
      "metadata": {
        "id": "DMYVuRkD0Eak",
        "colab_type": "code",
        "colab": {}
      },
      "source": [
        "fifa16=pd.read_csv(\"/content/drive/My Drive/ML Project_Prediction/FIFA16.csv\")"
      ],
      "execution_count": 0,
      "outputs": []
    },
    {
      "cell_type": "code",
      "metadata": {
        "id": "uJLwCMk50EsL",
        "colab_type": "code",
        "colab": {}
      },
      "source": [
        "fifa17=pd.read_csv(\"/content/drive/My Drive/ML Project_Prediction/FIFA17 (1).csv\")\n",
        "fifa18=pd.read_csv(\"/content/drive/My Drive/ML Project_Prediction/FIFA18 (1).csv\")\n",
        "fifa19=pd.read_csv(\"/content/drive/My Drive/ML Project_Prediction/FIFA19.csv\")\n",
        "fifa20=pd.read_csv(\"/content/drive/My Drive/ML Project_Prediction/FIFA20.csv\")"
      ],
      "execution_count": 0,
      "outputs": []
    },
    {
      "cell_type": "code",
      "metadata": {
        "id": "YFXNNE_S0g0F",
        "colab_type": "code",
        "colab": {}
      },
      "source": [
        "teams=teams.rename(columns={\"Pos\":\"Teams\",\"Pos.1\":\"Pos\"})"
      ],
      "execution_count": 0,
      "outputs": []
    },
    {
      "cell_type": "code",
      "metadata": {
        "id": "PRGD_kGr05VZ",
        "colab_type": "code",
        "outputId": "11058730-e1a3-4530-88ff-a06ebf62fe8c",
        "colab": {
          "base_uri": "https://localhost:8080/",
          "height": 73
        }
      },
      "source": [
        "for i in teams:\n",
        "  print(i)"
      ],
      "execution_count": 0,
      "outputs": [
        {
          "output_type": "stream",
          "text": [
            "Teams\n",
            "Pos\n",
            "Year\n"
          ],
          "name": "stdout"
        }
      ]
    },
    {
      "cell_type": "code",
      "metadata": {
        "id": "RGaZ_HgH08fQ",
        "colab_type": "code",
        "colab": {}
      },
      "source": [
        "tm=[]\n",
        "tm.append(list((teams.loc[teams[\"Year\"]==15])[\"Teams\"]))\n",
        "tm.append(list((teams.loc[teams[\"Year\"]==16])[\"Teams\"]))\n",
        "tm.append(list((teams.loc[teams[\"Year\"]==17])[\"Teams\"]))\n",
        "tm.append(list((teams.loc[teams[\"Year\"]==18])[\"Teams\"]))\n",
        "tm.append(list((teams.loc[teams[\"Year\"]==19])[\"Teams\"]))"
      ],
      "execution_count": 0,
      "outputs": []
    },
    {
      "cell_type": "code",
      "metadata": {
        "id": "hg4O2XCNSKQt",
        "colab_type": "code",
        "outputId": "72f57b47-26a2-4d43-b7e3-346acb88f104",
        "colab": {
          "base_uri": "https://localhost:8080/",
          "height": 206
        }
      },
      "source": [
        "fifa15.head()"
      ],
      "execution_count": 0,
      "outputs": [
        {
          "output_type": "execute_result",
          "data": {
            "text/html": [
              "<div>\n",
              "<style scoped>\n",
              "    .dataframe tbody tr th:only-of-type {\n",
              "        vertical-align: middle;\n",
              "    }\n",
              "\n",
              "    .dataframe tbody tr th {\n",
              "        vertical-align: top;\n",
              "    }\n",
              "\n",
              "    .dataframe thead th {\n",
              "        text-align: right;\n",
              "    }\n",
              "</style>\n",
              "<table border=\"1\" class=\"dataframe\">\n",
              "  <thead>\n",
              "    <tr style=\"text-align: right;\">\n",
              "      <th></th>\n",
              "      <th>Name</th>\n",
              "      <th>club</th>\n",
              "      <th>overall</th>\n",
              "      <th>player_positions</th>\n",
              "    </tr>\n",
              "  </thead>\n",
              "  <tbody>\n",
              "    <tr>\n",
              "      <th>0</th>\n",
              "      <td>Lionel Andrés Messi Cuccittini</td>\n",
              "      <td>FC Barcelona</td>\n",
              "      <td>93</td>\n",
              "      <td>CF</td>\n",
              "    </tr>\n",
              "    <tr>\n",
              "      <th>1</th>\n",
              "      <td>Cristiano Ronaldo dos Santos Aveiro</td>\n",
              "      <td>Real Madrid</td>\n",
              "      <td>92</td>\n",
              "      <td>LW, LM</td>\n",
              "    </tr>\n",
              "    <tr>\n",
              "      <th>2</th>\n",
              "      <td>Arjen Robben</td>\n",
              "      <td>FC Bayern München</td>\n",
              "      <td>90</td>\n",
              "      <td>RM, LM, RW</td>\n",
              "    </tr>\n",
              "    <tr>\n",
              "      <th>3</th>\n",
              "      <td>Zlatan Ibrahimović</td>\n",
              "      <td>Paris Saint-Germain</td>\n",
              "      <td>90</td>\n",
              "      <td>ST</td>\n",
              "    </tr>\n",
              "    <tr>\n",
              "      <th>4</th>\n",
              "      <td>Manuel Neuer</td>\n",
              "      <td>FC Bayern München</td>\n",
              "      <td>90</td>\n",
              "      <td>GK</td>\n",
              "    </tr>\n",
              "  </tbody>\n",
              "</table>\n",
              "</div>"
            ],
            "text/plain": [
              "                                  Name  ... player_positions\n",
              "0       Lionel Andrés Messi Cuccittini  ...               CF\n",
              "1  Cristiano Ronaldo dos Santos Aveiro  ...           LW, LM\n",
              "2                         Arjen Robben  ...       RM, LM, RW\n",
              "3                   Zlatan Ibrahimović  ...               ST\n",
              "4                         Manuel Neuer  ...               GK\n",
              "\n",
              "[5 rows x 4 columns]"
            ]
          },
          "metadata": {
            "tags": []
          },
          "execution_count": 12
        }
      ]
    },
    {
      "cell_type": "code",
      "metadata": {
        "id": "wpByG1RU3A7k",
        "colab_type": "code",
        "colab": {}
      },
      "source": [
        "pl_fifa15=[]\n",
        "pl_fifa16=[]\n",
        "pl_fifa17=[]\n",
        "pl_fifa18=[]\n",
        "pl_fifa19=[]\n",
        "pl_fifa20=[]"
      ],
      "execution_count": 0,
      "outputs": []
    },
    {
      "cell_type": "code",
      "metadata": {
        "id": "mEFza5W84k_z",
        "colab_type": "code",
        "colab": {}
      },
      "source": [
        "for index,row in fifa15.iterrows():\n",
        "  if(row[\"club\"] in tm[0]):\n",
        "    pl_fifa15.append([row[\"Name\"],row[\"overall\"],row[\"club\"],row[\"player_positions\"]])"
      ],
      "execution_count": 0,
      "outputs": []
    },
    {
      "cell_type": "code",
      "metadata": {
        "id": "7iOzVvfO6G_s",
        "colab_type": "code",
        "colab": {}
      },
      "source": [
        "for index,row in fifa16.iterrows():\n",
        "  if(row[\"club\"] in tm[1]):\n",
        "    pl_fifa16.append([row[\"Name\"],row[\"overall\"],row[\"club\"],row[\"player_positions\"]])"
      ],
      "execution_count": 0,
      "outputs": []
    },
    {
      "cell_type": "code",
      "metadata": {
        "id": "cz37_b696Tiy",
        "colab_type": "code",
        "colab": {}
      },
      "source": [
        "for index,row in fifa17.iterrows():\n",
        "  if(row[\"club\"] in tm[2]):\n",
        "    pl_fifa17.append([row[\"Name\"],row[\"overall\"],row[\"club\"],row[\"player_positions\"]])"
      ],
      "execution_count": 0,
      "outputs": []
    },
    {
      "cell_type": "code",
      "metadata": {
        "id": "etfST9FE7yIY",
        "colab_type": "code",
        "colab": {}
      },
      "source": [
        "for index,row in fifa18.iterrows():\n",
        "  if(row[\"club\"] in tm[3]):\n",
        "    pl_fifa18.append([row[\"Name\"],row[\"overall\"],row[\"club\"],row[\"player_positions\"]])"
      ],
      "execution_count": 0,
      "outputs": []
    },
    {
      "cell_type": "code",
      "metadata": {
        "id": "VhVQpBpx7zg1",
        "colab_type": "code",
        "colab": {}
      },
      "source": [
        "for index,row in fifa19.iterrows():\n",
        "  if(row[\"club\"] in tm[4]):\n",
        "    pl_fifa19.append([row[\"Name\"],row[\"overall\"],row[\"club\"],row[\"player_positions\"]])"
      ],
      "execution_count": 0,
      "outputs": []
    },
    {
      "cell_type": "code",
      "metadata": {
        "id": "OXbBjBd2-gjf",
        "colab_type": "code",
        "outputId": "ca53715e-0e90-4af9-ed1e-da554e4da790",
        "colab": {
          "base_uri": "https://localhost:8080/",
          "height": 36
        }
      },
      "source": [
        "pl_fifa15[0]"
      ],
      "execution_count": 0,
      "outputs": [
        {
          "output_type": "execute_result",
          "data": {
            "text/plain": [
              "['Zlatan Ibrahimović', 90, 'Paris Saint-Germain', 'ST']"
            ]
          },
          "metadata": {
            "tags": []
          },
          "execution_count": 19
        }
      ]
    },
    {
      "cell_type": "code",
      "metadata": {
        "id": "Rk5VBVoG8A0c",
        "colab_type": "code",
        "colab": {}
      },
      "source": [
        "import csv"
      ],
      "execution_count": 0,
      "outputs": []
    },
    {
      "cell_type": "code",
      "metadata": {
        "id": "zPJQdIRB8F3M",
        "colab_type": "code",
        "colab": {}
      },
      "source": [
        "with open(\"/content/drive/My Drive/ML Project_Prediction/Schema 1 - Sheet1.csv\",\"w\",newline='') as myfile:\n",
        "  wr=csv.writer(myfile,delimiter=',',quotechar='|',quoting=csv.QUOTE_MINIMAL)\n",
        "  wr.writerow([\"Sl\",\"Name\",\"Pos\",\"Rating\",\"Team\",\"FIFA\"])"
      ],
      "execution_count": 0,
      "outputs": []
    },
    {
      "cell_type": "code",
      "metadata": {
        "id": "BsT8TMZJ92QN",
        "colab_type": "code",
        "colab": {}
      },
      "source": [
        "ind=1"
      ],
      "execution_count": 0,
      "outputs": []
    },
    {
      "cell_type": "code",
      "metadata": {
        "id": "LwnAxw1K-OPb",
        "colab_type": "code",
        "colab": {}
      },
      "source": [
        ""
      ],
      "execution_count": 0,
      "outputs": []
    },
    {
      "cell_type": "code",
      "metadata": {
        "id": "R8Mlq4nNT7aA",
        "colab_type": "code",
        "colab": {}
      },
      "source": [
        "with open(\"/content/drive/My Drive/ML Project_Prediction/Schema 1 - Sheet1.csv\",\"a\",newline='') as myfile:\n",
        "  wr=csv.writer(myfile,delimiter=',',quotechar='|',quoting=csv.QUOTE_MINIMAL)\n",
        "  for i in pl_fifa15:\n",
        "    wr.writerow([ind,i[0],pos(i[-1]),i[1],i[2],15])\n",
        "    ind+=1\n",
        "with open(\"/content/drive/My Drive/ML Project_Prediction/Schema 1 - Sheet1.csv\",\"a\",newline='') as myfile:\n",
        "  wr=csv.writer(myfile,delimiter=',',quotechar='|',quoting=csv.QUOTE_MINIMAL)\n",
        "  for i in pl_fifa16:\n",
        "    wr.writerow([ind,i[0],pos(i[-1]),i[1],i[2],16])\n",
        "    ind+=1\n",
        "  for i in pl_fifa17:\n",
        "    wr.writerow([ind,i[0],pos(i[-1]),i[1],i[2],17])\n",
        "    ind+=1\n",
        "  for i in pl_fifa18:\n",
        "    wr.writerow([ind,i[0],pos(i[-1]),i[1],i[2],18])\n",
        "    ind+=1\n",
        "  for i in pl_fifa19:\n",
        "    wr.writerow([ind,i[0],pos(i[-1]),i[1],i[2],19])\n",
        "    ind+=1"
      ],
      "execution_count": 0,
      "outputs": []
    },
    {
      "cell_type": "code",
      "metadata": {
        "id": "02TWR1WlXwqc",
        "colab_type": "code",
        "colab": {}
      },
      "source": [
        ""
      ],
      "execution_count": 0,
      "outputs": []
    },
    {
      "cell_type": "code",
      "metadata": {
        "id": "mt56Ie0ZXw5y",
        "colab_type": "code",
        "colab": {}
      },
      "source": [
        ""
      ],
      "execution_count": 0,
      "outputs": []
    },
    {
      "cell_type": "code",
      "metadata": {
        "id": "_wqH4EsOXxNZ",
        "colab_type": "code",
        "colab": {}
      },
      "source": [
        ""
      ],
      "execution_count": 0,
      "outputs": []
    },
    {
      "cell_type": "code",
      "metadata": {
        "id": "u6QUGaJZXxbx",
        "colab_type": "code",
        "colab": {}
      },
      "source": [
        ""
      ],
      "execution_count": 0,
      "outputs": []
    },
    {
      "cell_type": "code",
      "metadata": {
        "id": "WgD6c1NdXxtx",
        "colab_type": "code",
        "colab": {}
      },
      "source": [
        ""
      ],
      "execution_count": 0,
      "outputs": []
    },
    {
      "cell_type": "code",
      "metadata": {
        "id": "12dIr-VKXyCE",
        "colab_type": "code",
        "colab": {}
      },
      "source": [
        ""
      ],
      "execution_count": 0,
      "outputs": []
    },
    {
      "cell_type": "code",
      "metadata": {
        "id": "5NfVZtQpVhv5",
        "colab_type": "code",
        "colab": {}
      },
      "source": [
        ""
      ],
      "execution_count": 0,
      "outputs": []
    }
  ]
}