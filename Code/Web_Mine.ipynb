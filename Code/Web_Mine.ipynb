{
  "nbformat": 4,
  "nbformat_minor": 0,
  "metadata": {
    "colab": {
      "name": "Web Mine",
      "provenance": [],
      "collapsed_sections": []
    },
    "kernelspec": {
      "name": "python3",
      "display_name": "Python 3"
    }
  },
  "cells": [
    {
      "cell_type": "code",
      "metadata": {
        "id": "Ulrf1yrwenSa",
        "colab_type": "code",
        "outputId": "614e7d8c-71e4-4d72-fda0-13e516c78f93",
        "colab": {
          "base_uri": "https://localhost:8080/",
          "height": 122
        }
      },
      "source": [
        "from google.colab import drive\n",
        "drive.mount('/content/drive')"
      ],
      "execution_count": 0,
      "outputs": [
        {
          "output_type": "stream",
          "text": [
            "Go to this URL in a browser: https://accounts.google.com/o/oauth2/auth?client_id=947318989803-6bn6qk8qdgf4n4g3pfee6491hc0brc4i.apps.googleusercontent.com&redirect_uri=urn%3Aietf%3Awg%3Aoauth%3A2.0%3Aoob&scope=email%20https%3A%2F%2Fwww.googleapis.com%2Fauth%2Fdocs.test%20https%3A%2F%2Fwww.googleapis.com%2Fauth%2Fdrive%20https%3A%2F%2Fwww.googleapis.com%2Fauth%2Fdrive.photos.readonly%20https%3A%2F%2Fwww.googleapis.com%2Fauth%2Fpeopleapi.readonly&response_type=code\n",
            "\n",
            "Enter your authorization code:\n",
            "··········\n",
            "Mounted at /content/drive\n"
          ],
          "name": "stdout"
        }
      ]
    },
    {
      "cell_type": "code",
      "metadata": {
        "id": "ELCAcyKIcewZ",
        "colab_type": "code",
        "colab": {}
      },
      "source": [
        "import pandas as pd\n",
        "import numpy as np\n",
        "import matplotlib.pyplot as plt\n",
        "import seaborn as sns\n",
        "import urllib"
      ],
      "execution_count": 0,
      "outputs": []
    },
    {
      "cell_type": "code",
      "metadata": {
        "id": "mRoGiWdcev16",
        "colab_type": "code",
        "colab": {}
      },
      "source": [
        "dataset=pd.read_csv(\"/content/drive/My Drive/ML Project_Prediction/fixture1920.csv\")"
      ],
      "execution_count": 0,
      "outputs": []
    },
    {
      "cell_type": "code",
      "metadata": {
        "id": "4p8gVxULe4gM",
        "colab_type": "code",
        "outputId": "d79a0c54-fbcc-4d26-9487-348d14dfb810",
        "colab": {
          "base_uri": "https://localhost:8080/",
          "height": 204
        }
      },
      "source": [
        "dataset.head()"
      ],
      "execution_count": 0,
      "outputs": [
        {
          "output_type": "execute_result",
          "data": {
            "text/html": [
              "<div>\n",
              "<style scoped>\n",
              "    .dataframe tbody tr th:only-of-type {\n",
              "        vertical-align: middle;\n",
              "    }\n",
              "\n",
              "    .dataframe tbody tr th {\n",
              "        vertical-align: top;\n",
              "    }\n",
              "\n",
              "    .dataframe thead th {\n",
              "        text-align: right;\n",
              "    }\n",
              "</style>\n",
              "<table border=\"1\" class=\"dataframe\">\n",
              "  <thead>\n",
              "    <tr style=\"text-align: right;\">\n",
              "      <th></th>\n",
              "      <th>Home Team</th>\n",
              "      <th>Away Team</th>\n",
              "      <th>Done</th>\n",
              "    </tr>\n",
              "  </thead>\n",
              "  <tbody>\n",
              "    <tr>\n",
              "      <th>0</th>\n",
              "      <td>Nîmes Olympique</td>\n",
              "      <td>Stade Rennais FC</td>\n",
              "      <td>N</td>\n",
              "    </tr>\n",
              "    <tr>\n",
              "      <th>1</th>\n",
              "      <td>AS Saint-Etienne</td>\n",
              "      <td>AS Monaco</td>\n",
              "      <td>N</td>\n",
              "    </tr>\n",
              "    <tr>\n",
              "      <th>2</th>\n",
              "      <td>Toulouse FC</td>\n",
              "      <td>Olympique Lyonnais</td>\n",
              "      <td>N</td>\n",
              "    </tr>\n",
              "    <tr>\n",
              "      <th>3</th>\n",
              "      <td>Stade Brestois 29</td>\n",
              "      <td>Paris Saint-Germain</td>\n",
              "      <td>N</td>\n",
              "    </tr>\n",
              "    <tr>\n",
              "      <th>4</th>\n",
              "      <td>LOSC</td>\n",
              "      <td>FC Metz</td>\n",
              "      <td>N</td>\n",
              "    </tr>\n",
              "  </tbody>\n",
              "</table>\n",
              "</div>"
            ],
            "text/plain": [
              "           Home Team            Away Team Done\n",
              "0    Nîmes Olympique     Stade Rennais FC    N\n",
              "1   AS Saint-Etienne            AS Monaco    N\n",
              "2        Toulouse FC   Olympique Lyonnais    N\n",
              "3  Stade Brestois 29  Paris Saint-Germain    N\n",
              "4               LOSC              FC Metz    N"
            ]
          },
          "metadata": {
            "tags": []
          },
          "execution_count": 4
        }
      ]
    },
    {
      "cell_type": "code",
      "metadata": {
        "id": "tOmdCEf1fBKi",
        "colab_type": "code",
        "colab": {}
      },
      "source": [
        "dataset[\"Home Team\"]=dataset[\"Home Team\"].replace(\"Nîmes Olympique\",\"nimes\")\n",
        "dataset[\"Home Team\"]=dataset[\"Home Team\"].replace(\"AS Monaco\",\"monaco\")\n",
        "dataset[\"Home Team\"]=dataset[\"Home Team\"].replace(\"Dijon FCO\",\"dijon\")\n",
        "dataset[\"Home Team\"]=dataset[\"Home Team\"].replace(\"AS Saint-Etienne\",\"saint-etienne\")\n",
        "dataset[\"Home Team\"]=dataset[\"Home Team\"].replace(\"FC Nantes\",\"nantes\")\n",
        "dataset[\"Home Team\"]=dataset[\"Home Team\"].replace(\"Amiens SC\",\"amiens\")\n",
        "dataset[\"Home Team\"]=dataset[\"Home Team\"].replace(\"Stade Rennais FC\",\"rennes\")\n",
        "dataset[\"Home Team\"]=dataset[\"Home Team\"].replace(\"Angers SCO\",\"angers\")\n",
        "dataset[\"Home Team\"]=dataset[\"Home Team\"].replace(\"FC Metz\",\"metz\")\n",
        "dataset[\"Home Team\"]=dataset[\"Home Team\"].replace(\"Girondins de Bordeaux\",\"bordeaux\")\n",
        "dataset[\"Home Team\"]=dataset[\"Home Team\"].replace(\"LOSC\",\"lille\")\n",
        "dataset[\"Home Team\"]=dataset[\"Home Team\"].replace(\"Montpellier Hérault SC\",\"montpellier\")\n",
        "dataset[\"Home Team\"]=dataset[\"Home Team\"].replace(\"OGC Nice\",\"nice\")\n",
        "dataset[\"Home Team\"]=dataset[\"Home Team\"].replace(\"Olympique Lyonnais\",\"lyon\")\n",
        "dataset[\"Home Team\"]=dataset[\"Home Team\"].replace(\"Olympique de Marseille\",\"marseille\")\n",
        "dataset[\"Home Team\"]=dataset[\"Home Team\"].replace(\"Paris Saint-Germain\",\"paris-sg\")\n",
        "dataset[\"Home Team\"]=dataset[\"Home Team\"].replace(\"RC Strasbourg Alsace\",\"strasbourg\")\n",
        "dataset[\"Home Team\"]=dataset[\"Home Team\"].replace(\"Stade Brestois 29\",\"brest\")\n",
        "dataset[\"Home Team\"]=dataset[\"Home Team\"].replace(\"Stade de Reims\",\"reims\")\n",
        "dataset[\"Home Team\"]=dataset[\"Home Team\"].replace(\"Toulouse FC\",\"toulouse\")"
      ],
      "execution_count": 0,
      "outputs": []
    },
    {
      "cell_type": "code",
      "metadata": {
        "id": "UgkDfECFh_mN",
        "colab_type": "code",
        "colab": {}
      },
      "source": [
        "dataset[\"Away Team\"]=dataset[\"Away Team\"].replace(\"Nîmes Olympique\",\"nimes\")\n",
        "dataset[\"Away Team\"]=dataset[\"Away Team\"].replace(\"AS Monaco\",\"monaco\")\n",
        "dataset[\"Away Team\"]=dataset[\"Away Team\"].replace(\"Dijon FCO\",\"dijon\")\n",
        "dataset[\"Away Team\"]=dataset[\"Away Team\"].replace(\"AS Saint-Etienne\",\"saint-etienne\")\n",
        "dataset[\"Away Team\"]=dataset[\"Away Team\"].replace(\"FC Nantes\",\"nantes\")\n",
        "dataset[\"Away Team\"]=dataset[\"Away Team\"].replace(\"Amiens SC\",\"amiens\")\n",
        "dataset[\"Away Team\"]=dataset[\"Away Team\"].replace(\"Stade Rennais FC\",\"rennes\")\n",
        "dataset[\"Away Team\"]=dataset[\"Away Team\"].replace(\"Angers SCO\",\"angers\")\n",
        "dataset[\"Away Team\"]=dataset[\"Away Team\"].replace(\"FC Metz\",\"metz\")\n",
        "dataset[\"Away Team\"]=dataset[\"Away Team\"].replace(\"Girondins de Bordeaux\",\"bordeaux\")\n",
        "dataset[\"Away Team\"]=dataset[\"Away Team\"].replace(\"LOSC\",\"lille\")\n",
        "dataset[\"Away Team\"]=dataset[\"Away Team\"].replace(\"Montpellier Hérault SC\",\"montpellier\")\n",
        "dataset[\"Away Team\"]=dataset[\"Away Team\"].replace(\"OGC Nice\",\"nice\")\n",
        "dataset[\"Away Team\"]=dataset[\"Away Team\"].replace(\"Olympique Lyonnais\",\"lyon\")\n",
        "dataset[\"Away Team\"]=dataset[\"Away Team\"].replace(\"Olympique de Marseille\",\"marseille\")\n",
        "dataset[\"Away Team\"]=dataset[\"Away Team\"].replace(\"Paris Saint-Germain\",\"paris-sg\")\n",
        "dataset[\"Away Team\"]=dataset[\"Away Team\"].replace(\"RC Strasbourg Alsace\",\"strasbourg\")\n",
        "dataset[\"Away Team\"]=dataset[\"Away Team\"].replace(\"Stade Brestois 29\",\"brest\")\n",
        "dataset[\"Away Team\"]=dataset[\"Away Team\"].replace(\"Stade de Reims\",\"reims\")\n",
        "dataset[\"Away Team\"]=dataset[\"Away Team\"].replace(\"Toulouse FC\",\"toulouse\")"
      ],
      "execution_count": 0,
      "outputs": []
    },
    {
      "cell_type": "code",
      "metadata": {
        "id": "iKFlG4rzgx8g",
        "colab_type": "code",
        "colab": {}
      },
      "source": [
        "ht=dataset.iloc[1][\"Home Team\"]\n",
        "at=dataset.iloc[1][\"Away Team\"]"
      ],
      "execution_count": 0,
      "outputs": []
    },
    {
      "cell_type": "code",
      "metadata": {
        "id": "A8hatMx_iV4d",
        "colab_type": "code",
        "colab": {}
      },
      "source": [
        "url=\"https://www.smartbets.com/football/\"+at+\"-\"+ht+\"/\""
      ],
      "execution_count": 0,
      "outputs": []
    },
    {
      "cell_type": "code",
      "metadata": {
        "id": "1-nANylpJsuE",
        "colab_type": "code",
        "outputId": "b0b44320-4617-4261-f457-a6be925a366d",
        "colab": {
          "base_uri": "https://localhost:8080/",
          "height": 34
        }
      },
      "source": [
        "url"
      ],
      "execution_count": 0,
      "outputs": [
        {
          "output_type": "execute_result",
          "data": {
            "text/plain": [
              "'https://www.smartbets.com/football/bordeaux-nice/'"
            ]
          },
          "metadata": {
            "tags": []
          },
          "execution_count": 15
        }
      ]
    },
    {
      "cell_type": "code",
      "metadata": {
        "id": "oNJvwlm_hYZp",
        "colab_type": "code",
        "colab": {}
      },
      "source": [
        "req = urllib.request.Request(url, headers={'User-Agent' : \"Magic Browser\"}) \n",
        "data = urllib.request.urlopen( req )"
      ],
      "execution_count": 0,
      "outputs": []
    },
    {
      "cell_type": "code",
      "metadata": {
        "id": "Sao-5yUIkBC9",
        "colab_type": "code",
        "colab": {}
      },
      "source": [
        "dataset=\"\"\n",
        "for i in data.read():\n",
        "  dataset+=chr(i)"
      ],
      "execution_count": 0,
      "outputs": []
    },
    {
      "cell_type": "code",
      "metadata": {
        "id": "vbJytGyalfJA",
        "colab_type": "code",
        "colab": {}
      },
      "source": [
        "dataset=dataset.split('<td class=\"odds\"')"
      ],
      "execution_count": 0,
      "outputs": []
    },
    {
      "cell_type": "code",
      "metadata": {
        "id": "LpmvAtwImkLL",
        "colab_type": "code",
        "colab": {}
      },
      "source": [
        "col=[71,78,70,74,104,40]"
      ],
      "execution_count": 0,
      "outputs": []
    },
    {
      "cell_type": "code",
      "metadata": {
        "id": "v0c9Al0LnAiq",
        "colab_type": "code",
        "colab": {}
      },
      "source": [
        "dt=[]"
      ],
      "execution_count": 0,
      "outputs": []
    },
    {
      "cell_type": "code",
      "metadata": {
        "id": "EfSUhBprluhq",
        "colab_type": "code",
        "colab": {}
      },
      "source": [
        "for j in col:\n",
        "  st='data-bid=\"' + str(j)+'\"'\n",
        "  for i in dataset:\n",
        "    if(st in i):\n",
        "      dt.append(i)"
      ],
      "execution_count": 0,
      "outputs": []
    },
    {
      "cell_type": "code",
      "metadata": {
        "id": "z1YvvPLemEnX",
        "colab_type": "code",
        "outputId": "5100bd20-2a40-49ac-f5f8-680b029ec2cd",
        "colab": {
          "base_uri": "https://localhost:8080/",
          "height": 343
        }
      },
      "source": [
        "dt"
      ],
      "execution_count": 0,
      "outputs": [
        {
          "output_type": "execute_result",
          "data": {
            "text/plain": [
              "['>\\n\\n                    \\n                        \\n                        <span\\n                                onclick=\"(function(){ $.isReady ? Ploomo.betslip.toggleSelection(\\'244458377\\', 0) : null; })(this); return false;\"\\n                                class=\"button label-button small odds lnk status-1\"\\n                                data-oid=\"1\"\\n                                data-bid=\"71\">2.40</span>\\n\\n                                    </td>\\n                            ',\n",
              " '>\\n\\n                    \\n                        \\n                        <span\\n                                onclick=\"(function(){ $.isReady ? Ploomo.betslip.toggleSelection(\\'244458378\\', 0) : null; })(this); return false;\"\\n                                class=\"button label-button small odds lnk status-1\"\\n                                data-oid=\"1\"\\n                                data-bid=\"71\">3.10</span>\\n\\n                                    </td>\\n                            ',\n",
              " '>\\n\\n                    \\n                        \\n                        <span\\n                                onclick=\"(function(){ $.isReady ? Ploomo.betslip.toggleSelection(\\'244458376\\', 0) : null; })(this); return false;\"\\n                                class=\"button label-button small odds lnk status-1\"\\n                                data-oid=\"1\"\\n                                data-bid=\"71\">3.00</span>\\n\\n                                    </td>\\n                            ',\n",
              " '>\\n\\n                    \\n                        \\n                        <span\\n                                onclick=\"(function(){ $.isReady ? Ploomo.betslip.toggleSelection(\\'247515557\\', 0) : null; })(this); return false;\"\\n                                class=\"button label-button small odds lnk status-1\"\\n                                data-oid=\"1\"\\n                                data-bid=\"78\">2.45</span>\\n\\n                                    </td>\\n                            ',\n",
              " '>\\n\\n                    \\n                        \\n                        <span\\n                                onclick=\"(function(){ $.isReady ? Ploomo.betslip.toggleSelection(\\'247515556\\', 0) : null; })(this); return false;\"\\n                                class=\"button label-button small odds lnk status-1\"\\n                                data-oid=\"1\"\\n                                data-bid=\"78\">3.10</span>\\n\\n                                    </td>\\n                            ',\n",
              " '>\\n\\n                    \\n                        \\n                        <span\\n                                onclick=\"(function(){ $.isReady ? Ploomo.betslip.toggleSelection(\\'247515558\\', 0) : null; })(this); return false;\"\\n                                class=\"button label-button small odds lnk status-1\"\\n                                data-oid=\"1\"\\n                                data-bid=\"78\">3.10</span>\\n\\n                                    </td>\\n                            ',\n",
              " '>\\n\\n                    \\n                        \\n                        <span\\n                                onclick=\"(function(){ $.isReady ? Ploomo.betslip.toggleSelection(\\'247323352\\', 0) : null; })(this); return false;\"\\n                                class=\"button label-button small odds lnk status-1\"\\n                                data-oid=\"1\"\\n                                data-bid=\"70\">2.50</span>\\n\\n                                    </td>\\n                            ',\n",
              " '>\\n\\n                    \\n                        \\n                        <span\\n                                onclick=\"(function(){ $.isReady ? Ploomo.betslip.toggleSelection(\\'247323351\\', 0) : null; })(this); return false;\"\\n                                class=\"button label-button small odds lnk status-1 top-odds\"\\n                                data-oid=\"1\"\\n                                data-bid=\"70\">3.20</span>\\n\\n                                    </td>\\n                            ',\n",
              " '>\\n\\n                    \\n                        \\n                        <span\\n                                onclick=\"(function(){ $.isReady ? Ploomo.betslip.toggleSelection(\\'247323353\\', 0) : null; })(this); return false;\"\\n                                class=\"button label-button small odds lnk status-1\"\\n                                data-oid=\"1\"\\n                                data-bid=\"70\">3.00</span>\\n\\n                                    </td>\\n                            ',\n",
              " '>\\n\\n                    \\n                        \\n                        <span\\n                                onclick=\"(function(){ $.isReady ? Ploomo.betslip.toggleSelection(\\'247045652\\', 0) : null; })(this); return false;\"\\n                                class=\"button label-button small odds lnk status-1\"\\n                                data-oid=\"1\"\\n                                data-bid=\"74\">2.56</span>\\n\\n                                    </td>\\n                            ',\n",
              " '>\\n\\n                    \\n                        \\n                        <span\\n                                onclick=\"(function(){ $.isReady ? Ploomo.betslip.toggleSelection(\\'247045651\\', 0) : null; })(this); return false;\"\\n                                class=\"button label-button small odds lnk status-1\"\\n                                data-oid=\"1\"\\n                                data-bid=\"74\">3.15</span>\\n\\n                                    </td>\\n                            ',\n",
              " '>\\n\\n                    \\n                        \\n                        <span\\n                                onclick=\"(function(){ $.isReady ? Ploomo.betslip.toggleSelection(\\'247062567\\', 0) : null; })(this); return false;\"\\n                                class=\"button label-button small odds lnk status-1\"\\n                                data-oid=\"1\"\\n                                data-bid=\"74\">3.14</span>\\n\\n                                    </td>\\n                            ',\n",
              " '>\\n\\n                    \\n                        \\n                        <span\\n                                onclick=\"(function(){ $.isReady ? Ploomo.betslip.toggleSelection(\\'247802636\\', 0) : null; })(this); return false;\"\\n                                class=\"button label-button small odds lnk status-1 top-odds\"\\n                                data-oid=\"1\"\\n                                data-bid=\"104\">2.57</span>\\n\\n                                    </td>\\n                            ',\n",
              " '>\\n\\n                    \\n                        \\n                        <span\\n                                onclick=\"(function(){ $.isReady ? Ploomo.betslip.toggleSelection(\\'247802638\\', 0) : null; })(this); return false;\"\\n                                class=\"button label-button small odds lnk status-1 top-odds\"\\n                                data-oid=\"1\"\\n                                data-bid=\"104\">3.20</span>\\n\\n                                    </td>\\n                            ',\n",
              " '>\\n\\n                    \\n                        \\n                        <span\\n                                onclick=\"(function(){ $.isReady ? Ploomo.betslip.toggleSelection(\\'247802637\\', 0) : null; })(this); return false;\"\\n                                class=\"button label-button small odds lnk status-1\"\\n                                data-oid=\"1\"\\n                                data-bid=\"104\">3.14</span>\\n\\n                                    </td>\\n                            ',\n",
              " '>\\n\\n                    \\n                        \\n                        <span\\n                                onclick=\"(function(){ $.isReady ? Ploomo.betslip.toggleSelection(\\'247128390\\', 0) : null; })(this); return false;\"\\n                                class=\"button label-button small odds lnk status-1\"\\n                                data-oid=\"1\"\\n                                data-bid=\"40\">2.45</span>\\n\\n                                    </td>\\n                            ',\n",
              " '>\\n\\n                    \\n                        \\n                        <span\\n                                onclick=\"(function(){ $.isReady ? Ploomo.betslip.toggleSelection(\\'247128388\\', 0) : null; })(this); return false;\"\\n                                class=\"button label-button small odds lnk status-1\"\\n                                data-oid=\"1\"\\n                                data-bid=\"40\">3.05</span>\\n\\n                                    </td>\\n                            ',\n",
              " '>\\n\\n                    \\n                        \\n                        <span\\n                                onclick=\"(function(){ $.isReady ? Ploomo.betslip.toggleSelection(\\'247128389\\', 0) : null; })(this); return false;\"\\n                                class=\"button label-button small odds lnk status-1\"\\n                                data-oid=\"1\"\\n                                data-bid=\"40\">2.95</span>\\n\\n                                    </td>\\n                            ']"
            ]
          },
          "metadata": {
            "tags": []
          },
          "execution_count": 28
        }
      ]
    },
    {
      "cell_type": "code",
      "metadata": {
        "id": "QbFpbY7NoB0z",
        "colab_type": "code",
        "colab": {}
      },
      "source": [
        "odds=[]\n",
        "for i in range(3):\n",
        "  odds.append([])\n",
        "odds_index=0\n",
        "for i in range(len(col)):\n",
        "  st='data-bid=\"' + str(col[i])+'\"'\n",
        "  for j in range(i*3,i*3+3):\n",
        "    k1=dt[j].index(st)+len(st)+1\n",
        "    for indexx in range(k1,len(dt[j])):\n",
        "      if(dt[j][indexx]==\"<\"):\n",
        "        k2=indexx\n",
        "        break\n",
        "    odds[odds_index].append(float(dt[j][k1:k2]))\n",
        "    odds_index+=1\n",
        "    if(odds_index==3):\n",
        "      odds_index=0"
      ],
      "execution_count": 0,
      "outputs": []
    },
    {
      "cell_type": "code",
      "metadata": {
        "id": "OIvlUlCFpQem",
        "colab_type": "code",
        "outputId": "bf58df63-3e7e-4715-b873-e04bcd4030a3",
        "colab": {
          "base_uri": "https://localhost:8080/",
          "height": 68
        }
      },
      "source": [
        "odds"
      ],
      "execution_count": 0,
      "outputs": [
        {
          "output_type": "execute_result",
          "data": {
            "text/plain": [
              "[[2.4, 2.45, 2.5, 2.56, 2.57, 2.45],\n",
              " [3.1, 3.1, 3.2, 3.15, 3.2, 3.05],\n",
              " [3.0, 3.1, 3.0, 3.14, 3.14, 2.95]]"
            ]
          },
          "metadata": {
            "tags": []
          },
          "execution_count": 30
        }
      ]
    },
    {
      "cell_type": "code",
      "metadata": {
        "id": "2ll258TBqutz",
        "colab_type": "code",
        "colab": {}
      },
      "source": [
        "df=pd.read_csv(\"/content/drive/My Drive/ML Project_Prediction/Schema 3 - Sheet1.csv\")"
      ],
      "execution_count": 0,
      "outputs": []
    },
    {
      "cell_type": "code",
      "metadata": {
        "id": "vPw8dQBXK3KS",
        "colab_type": "code",
        "colab": {}
      },
      "source": [
        ""
      ],
      "execution_count": 0,
      "outputs": []
    }
  ]
}