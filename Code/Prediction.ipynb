{
  "nbformat": 4,
  "nbformat_minor": 0,
  "metadata": {
    "colab": {
      "name": "Prediction",
      "provenance": []
    },
    "kernelspec": {
      "name": "python3",
      "display_name": "Python 3"
    }
  },
  "cells": [
    {
      "cell_type": "code",
      "metadata": {
        "id": "oTQz2Zay7oWt",
        "colab_type": "code",
        "outputId": "09229647-404e-40a7-e599-96b774a47662",
        "colab": {
          "base_uri": "https://localhost:8080/",
          "height": 122
        }
      },
      "source": [
        "from google.colab import drive\n",
        "drive.mount(\"/content/drive\",force_remount=True)"
      ],
      "execution_count": 0,
      "outputs": [
        {
          "output_type": "stream",
          "text": [
            "Go to this URL in a browser: https://accounts.google.com/o/oauth2/auth?client_id=947318989803-6bn6qk8qdgf4n4g3pfee6491hc0brc4i.apps.googleusercontent.com&redirect_uri=urn%3Aietf%3Awg%3Aoauth%3A2.0%3Aoob&scope=email%20https%3A%2F%2Fwww.googleapis.com%2Fauth%2Fdocs.test%20https%3A%2F%2Fwww.googleapis.com%2Fauth%2Fdrive%20https%3A%2F%2Fwww.googleapis.com%2Fauth%2Fdrive.photos.readonly%20https%3A%2F%2Fwww.googleapis.com%2Fauth%2Fpeopleapi.readonly&response_type=code\n",
            "\n",
            "Enter your authorization code:\n",
            "··········\n",
            "Mounted at /content/drive\n"
          ],
          "name": "stdout"
        }
      ]
    },
    {
      "cell_type": "code",
      "metadata": {
        "id": "2BTtKquF7rsL",
        "colab_type": "code",
        "colab": {}
      },
      "source": [
        "import pandas as pd\n",
        "import numpy as np"
      ],
      "execution_count": 0,
      "outputs": []
    },
    {
      "cell_type": "code",
      "metadata": {
        "id": "rMbU0zkM7s7D",
        "colab_type": "code",
        "colab": {}
      },
      "source": [
        "pred=pd.read_csv(\"/content/drive/My Drive/ML Project_Prediction/Schema 3 - Sheet1.csv\")"
      ],
      "execution_count": 0,
      "outputs": []
    },
    {
      "cell_type": "code",
      "metadata": {
        "id": "-bDsWrQDD1DK",
        "colab_type": "code",
        "colab": {}
      },
      "source": [
        "from sklearn import preprocessing\n",
        "le=preprocessing.LabelEncoder()\n",
        "pred[\"HT\"]=le.fit_transform(pred[\"HT\"])\n",
        "pred[\"AT\"]=le.fit_transform(pred[\"AT\"])\n",
        "#pred[\"Result\"]=le.fit_transform(pred[\"Result\"])"
      ],
      "execution_count": 0,
      "outputs": []
    },
    {
      "cell_type": "code",
      "metadata": {
        "id": "DSFB5PSHDzI7",
        "colab_type": "code",
        "outputId": "f1377fb8-df12-435e-814e-4e2605fb9454",
        "colab": {
          "base_uri": "https://localhost:8080/",
          "height": 224
        }
      },
      "source": [
        "pred.head()"
      ],
      "execution_count": 0,
      "outputs": [
        {
          "output_type": "execute_result",
          "data": {
            "text/html": [
              "<div>\n",
              "<style scoped>\n",
              "    .dataframe tbody tr th:only-of-type {\n",
              "        vertical-align: middle;\n",
              "    }\n",
              "\n",
              "    .dataframe tbody tr th {\n",
              "        vertical-align: top;\n",
              "    }\n",
              "\n",
              "    .dataframe thead th {\n",
              "        text-align: right;\n",
              "    }\n",
              "</style>\n",
              "<table border=\"1\" class=\"dataframe\">\n",
              "  <thead>\n",
              "    <tr style=\"text-align: right;\">\n",
              "      <th></th>\n",
              "      <th>Sl</th>\n",
              "      <th>HT</th>\n",
              "      <th>AT</th>\n",
              "      <th>Year</th>\n",
              "      <th>PosnH</th>\n",
              "      <th>PosnA</th>\n",
              "      <th>1H</th>\n",
              "      <th>1D</th>\n",
              "      <th>1A</th>\n",
              "      <th>2H</th>\n",
              "      <th>2D</th>\n",
              "      <th>2A</th>\n",
              "      <th>3H</th>\n",
              "      <th>3D</th>\n",
              "      <th>3A</th>\n",
              "      <th>4H</th>\n",
              "      <th>4D</th>\n",
              "      <th>4A</th>\n",
              "      <th>5H</th>\n",
              "      <th>5D</th>\n",
              "      <th>5A</th>\n",
              "      <th>6H</th>\n",
              "      <th>6D</th>\n",
              "      <th>6A</th>\n",
              "      <th>HGK</th>\n",
              "      <th>HDef</th>\n",
              "      <th>HMid</th>\n",
              "      <th>HFw</th>\n",
              "      <th>AGK</th>\n",
              "      <th>ADef</th>\n",
              "      <th>AMid</th>\n",
              "      <th>AFw</th>\n",
              "      <th>Result</th>\n",
              "    </tr>\n",
              "  </thead>\n",
              "  <tbody>\n",
              "    <tr>\n",
              "      <th>0</th>\n",
              "      <td>1</td>\n",
              "      <td>13</td>\n",
              "      <td>20</td>\n",
              "      <td>15</td>\n",
              "      <td>4.285714</td>\n",
              "      <td>3.285714</td>\n",
              "      <td>6.50</td>\n",
              "      <td>3.6</td>\n",
              "      <td>1.57</td>\n",
              "      <td>6.75</td>\n",
              "      <td>3.75</td>\n",
              "      <td>1.65</td>\n",
              "      <td>4.65</td>\n",
              "      <td>3.40</td>\n",
              "      <td>1.75</td>\n",
              "      <td>6.00</td>\n",
              "      <td>3.50</td>\n",
              "      <td>1.67</td>\n",
              "      <td>6.64</td>\n",
              "      <td>3.78</td>\n",
              "      <td>1.65</td>\n",
              "      <td>6.00</td>\n",
              "      <td>3.6</td>\n",
              "      <td>1.62</td>\n",
              "      <td>70.235294</td>\n",
              "      <td>69.314286</td>\n",
              "      <td>70.979592</td>\n",
              "      <td>71.375000</td>\n",
              "      <td>74.750000</td>\n",
              "      <td>77.000000</td>\n",
              "      <td>75.975610</td>\n",
              "      <td>79.568182</td>\n",
              "      <td>A</td>\n",
              "    </tr>\n",
              "    <tr>\n",
              "      <th>1</th>\n",
              "      <td>2</td>\n",
              "      <td>20</td>\n",
              "      <td>23</td>\n",
              "      <td>15</td>\n",
              "      <td>15.285714</td>\n",
              "      <td>9.000000</td>\n",
              "      <td>2.60</td>\n",
              "      <td>3.1</td>\n",
              "      <td>2.80</td>\n",
              "      <td>2.60</td>\n",
              "      <td>2.90</td>\n",
              "      <td>2.90</td>\n",
              "      <td>2.30</td>\n",
              "      <td>3.10</td>\n",
              "      <td>3.10</td>\n",
              "      <td>2.50</td>\n",
              "      <td>2.88</td>\n",
              "      <td>2.88</td>\n",
              "      <td>2.71</td>\n",
              "      <td>3.09</td>\n",
              "      <td>3.00</td>\n",
              "      <td>2.60</td>\n",
              "      <td>2.9</td>\n",
              "      <td>3.00</td>\n",
              "      <td>72.000000</td>\n",
              "      <td>73.500000</td>\n",
              "      <td>66.250000</td>\n",
              "      <td>68.400000</td>\n",
              "      <td>69.812500</td>\n",
              "      <td>71.658537</td>\n",
              "      <td>69.490909</td>\n",
              "      <td>72.361111</td>\n",
              "      <td>H</td>\n",
              "    </tr>\n",
              "    <tr>\n",
              "      <th>2</th>\n",
              "      <td>3</td>\n",
              "      <td>18</td>\n",
              "      <td>22</td>\n",
              "      <td>15</td>\n",
              "      <td>5.428571</td>\n",
              "      <td>16.571429</td>\n",
              "      <td>1.57</td>\n",
              "      <td>4.0</td>\n",
              "      <td>6.00</td>\n",
              "      <td>1.55</td>\n",
              "      <td>4.33</td>\n",
              "      <td>6.00</td>\n",
              "      <td>1.55</td>\n",
              "      <td>3.70</td>\n",
              "      <td>6.00</td>\n",
              "      <td>1.50</td>\n",
              "      <td>3.80</td>\n",
              "      <td>5.75</td>\n",
              "      <td>1.56</td>\n",
              "      <td>4.35</td>\n",
              "      <td>6.59</td>\n",
              "      <td>1.57</td>\n",
              "      <td>4.0</td>\n",
              "      <td>5.50</td>\n",
              "      <td>70.133333</td>\n",
              "      <td>71.409091</td>\n",
              "      <td>72.060000</td>\n",
              "      <td>73.419355</td>\n",
              "      <td>65.611111</td>\n",
              "      <td>69.647059</td>\n",
              "      <td>68.387755</td>\n",
              "      <td>69.794118</td>\n",
              "      <td>A</td>\n",
              "    </tr>\n",
              "    <tr>\n",
              "      <th>3</th>\n",
              "      <td>4</td>\n",
              "      <td>14</td>\n",
              "      <td>6</td>\n",
              "      <td>15</td>\n",
              "      <td>9.000000</td>\n",
              "      <td>19.285714</td>\n",
              "      <td>1.83</td>\n",
              "      <td>3.4</td>\n",
              "      <td>4.75</td>\n",
              "      <td>1.75</td>\n",
              "      <td>3.20</td>\n",
              "      <td>5.25</td>\n",
              "      <td>1.80</td>\n",
              "      <td>3.40</td>\n",
              "      <td>4.35</td>\n",
              "      <td>1.75</td>\n",
              "      <td>3.10</td>\n",
              "      <td>4.75</td>\n",
              "      <td>1.81</td>\n",
              "      <td>3.44</td>\n",
              "      <td>5.53</td>\n",
              "      <td>1.75</td>\n",
              "      <td>3.3</td>\n",
              "      <td>5.50</td>\n",
              "      <td>70.647059</td>\n",
              "      <td>70.093750</td>\n",
              "      <td>68.958333</td>\n",
              "      <td>69.772727</td>\n",
              "      <td>60.000000</td>\n",
              "      <td>60.000000</td>\n",
              "      <td>60.000000</td>\n",
              "      <td>60.000000</td>\n",
              "      <td>A</td>\n",
              "    </tr>\n",
              "    <tr>\n",
              "      <th>4</th>\n",
              "      <td>5</td>\n",
              "      <td>12</td>\n",
              "      <td>9</td>\n",
              "      <td>15</td>\n",
              "      <td>17.857143</td>\n",
              "      <td>18.000000</td>\n",
              "      <td>2.20</td>\n",
              "      <td>3.1</td>\n",
              "      <td>3.60</td>\n",
              "      <td>2.20</td>\n",
              "      <td>3.00</td>\n",
              "      <td>3.50</td>\n",
              "      <td>2.10</td>\n",
              "      <td>3.15</td>\n",
              "      <td>3.45</td>\n",
              "      <td>2.10</td>\n",
              "      <td>2.90</td>\n",
              "      <td>3.60</td>\n",
              "      <td>2.20</td>\n",
              "      <td>3.11</td>\n",
              "      <td>4.01</td>\n",
              "      <td>2.25</td>\n",
              "      <td>3.1</td>\n",
              "      <td>3.40</td>\n",
              "      <td>67.888889</td>\n",
              "      <td>69.395349</td>\n",
              "      <td>68.750000</td>\n",
              "      <td>68.500000</td>\n",
              "      <td>67.562500</td>\n",
              "      <td>70.100000</td>\n",
              "      <td>70.348837</td>\n",
              "      <td>69.575758</td>\n",
              "      <td>H</td>\n",
              "    </tr>\n",
              "  </tbody>\n",
              "</table>\n",
              "</div>"
            ],
            "text/plain": [
              "   Sl  HT  AT  Year  ...       ADef       AMid        AFw  Result\n",
              "0   1  13  20    15  ...  77.000000  75.975610  79.568182       A\n",
              "1   2  20  23    15  ...  71.658537  69.490909  72.361111       H\n",
              "2   3  18  22    15  ...  69.647059  68.387755  69.794118       A\n",
              "3   4  14   6    15  ...  60.000000  60.000000  60.000000       A\n",
              "4   5  12   9    15  ...  70.100000  70.348837  69.575758       H\n",
              "\n",
              "[5 rows x 33 columns]"
            ]
          },
          "metadata": {
            "tags": []
          },
          "execution_count": 5
        }
      ]
    },
    {
      "cell_type": "code",
      "metadata": {
        "id": "8xW9tzcCxAbX",
        "colab_type": "code",
        "colab": {}
      },
      "source": [
        "for index,rows in pred.iterrows():\n",
        "  if(rows[\"PosnH\"]==0):\n",
        "    rows[\"PosnH\"]=21\n",
        "  if(rows[\"PosnA\"]==0):\n",
        "    rows[\"PosnA\"]=21"
      ],
      "execution_count": 0,
      "outputs": []
    },
    {
      "cell_type": "code",
      "metadata": {
        "id": "x_c-32UVnggd",
        "colab_type": "code",
        "colab": {}
      },
      "source": [
        "for i in pred:\n",
        "  if(pred[i].isnull().any().any()==True):\n",
        "    pred=pred.drop([i],axis=1)"
      ],
      "execution_count": 0,
      "outputs": []
    },
    {
      "cell_type": "code",
      "metadata": {
        "id": "M1XKNhab8lVP",
        "colab_type": "code",
        "colab": {}
      },
      "source": [
        "from sklearn import svm\n"
      ],
      "execution_count": 0,
      "outputs": []
    },
    {
      "cell_type": "code",
      "metadata": {
        "id": "Ht3A50ylMfOO",
        "colab_type": "code",
        "outputId": "f0941433-1218-444d-e52b-341e0dd76437",
        "colab": {
          "base_uri": "https://localhost:8080/",
          "height": 419
        }
      },
      "source": [
        "pred"
      ],
      "execution_count": 0,
      "outputs": [
        {
          "output_type": "execute_result",
          "data": {
            "text/html": [
              "<div>\n",
              "<style scoped>\n",
              "    .dataframe tbody tr th:only-of-type {\n",
              "        vertical-align: middle;\n",
              "    }\n",
              "\n",
              "    .dataframe tbody tr th {\n",
              "        vertical-align: top;\n",
              "    }\n",
              "\n",
              "    .dataframe thead th {\n",
              "        text-align: right;\n",
              "    }\n",
              "</style>\n",
              "<table border=\"1\" class=\"dataframe\">\n",
              "  <thead>\n",
              "    <tr style=\"text-align: right;\">\n",
              "      <th></th>\n",
              "      <th>Sl</th>\n",
              "      <th>HT</th>\n",
              "      <th>AT</th>\n",
              "      <th>Year</th>\n",
              "      <th>PosnH</th>\n",
              "      <th>PosnA</th>\n",
              "      <th>2H</th>\n",
              "      <th>2D</th>\n",
              "      <th>2A</th>\n",
              "      <th>HGK</th>\n",
              "      <th>HDef</th>\n",
              "      <th>HMid</th>\n",
              "      <th>HFw</th>\n",
              "      <th>AGK</th>\n",
              "      <th>ADef</th>\n",
              "      <th>AMid</th>\n",
              "      <th>AFw</th>\n",
              "      <th>Result</th>\n",
              "    </tr>\n",
              "  </thead>\n",
              "  <tbody>\n",
              "    <tr>\n",
              "      <th>0</th>\n",
              "      <td>1</td>\n",
              "      <td>13</td>\n",
              "      <td>20</td>\n",
              "      <td>15</td>\n",
              "      <td>4.285714</td>\n",
              "      <td>3.285714</td>\n",
              "      <td>6.75</td>\n",
              "      <td>3.75</td>\n",
              "      <td>1.65</td>\n",
              "      <td>70.235294</td>\n",
              "      <td>69.314286</td>\n",
              "      <td>70.979592</td>\n",
              "      <td>71.375000</td>\n",
              "      <td>74.750000</td>\n",
              "      <td>77.000000</td>\n",
              "      <td>75.975610</td>\n",
              "      <td>79.568182</td>\n",
              "      <td>A</td>\n",
              "    </tr>\n",
              "    <tr>\n",
              "      <th>1</th>\n",
              "      <td>2</td>\n",
              "      <td>20</td>\n",
              "      <td>23</td>\n",
              "      <td>15</td>\n",
              "      <td>15.285714</td>\n",
              "      <td>9.000000</td>\n",
              "      <td>2.60</td>\n",
              "      <td>2.90</td>\n",
              "      <td>2.90</td>\n",
              "      <td>72.000000</td>\n",
              "      <td>73.500000</td>\n",
              "      <td>66.250000</td>\n",
              "      <td>68.400000</td>\n",
              "      <td>69.812500</td>\n",
              "      <td>71.658537</td>\n",
              "      <td>69.490909</td>\n",
              "      <td>72.361111</td>\n",
              "      <td>H</td>\n",
              "    </tr>\n",
              "    <tr>\n",
              "      <th>2</th>\n",
              "      <td>3</td>\n",
              "      <td>18</td>\n",
              "      <td>22</td>\n",
              "      <td>15</td>\n",
              "      <td>5.428571</td>\n",
              "      <td>16.571429</td>\n",
              "      <td>1.55</td>\n",
              "      <td>4.33</td>\n",
              "      <td>6.00</td>\n",
              "      <td>70.133333</td>\n",
              "      <td>71.409091</td>\n",
              "      <td>72.060000</td>\n",
              "      <td>73.419355</td>\n",
              "      <td>65.611111</td>\n",
              "      <td>69.647059</td>\n",
              "      <td>68.387755</td>\n",
              "      <td>69.794118</td>\n",
              "      <td>A</td>\n",
              "    </tr>\n",
              "    <tr>\n",
              "      <th>3</th>\n",
              "      <td>4</td>\n",
              "      <td>14</td>\n",
              "      <td>6</td>\n",
              "      <td>15</td>\n",
              "      <td>9.000000</td>\n",
              "      <td>19.285714</td>\n",
              "      <td>1.75</td>\n",
              "      <td>3.20</td>\n",
              "      <td>5.25</td>\n",
              "      <td>70.647059</td>\n",
              "      <td>70.093750</td>\n",
              "      <td>68.958333</td>\n",
              "      <td>69.772727</td>\n",
              "      <td>60.000000</td>\n",
              "      <td>60.000000</td>\n",
              "      <td>60.000000</td>\n",
              "      <td>60.000000</td>\n",
              "      <td>A</td>\n",
              "    </tr>\n",
              "    <tr>\n",
              "      <th>4</th>\n",
              "      <td>5</td>\n",
              "      <td>12</td>\n",
              "      <td>9</td>\n",
              "      <td>15</td>\n",
              "      <td>17.857143</td>\n",
              "      <td>18.000000</td>\n",
              "      <td>2.20</td>\n",
              "      <td>3.00</td>\n",
              "      <td>3.50</td>\n",
              "      <td>67.888889</td>\n",
              "      <td>69.395349</td>\n",
              "      <td>68.750000</td>\n",
              "      <td>68.500000</td>\n",
              "      <td>67.562500</td>\n",
              "      <td>70.100000</td>\n",
              "      <td>70.348837</td>\n",
              "      <td>69.575758</td>\n",
              "      <td>H</td>\n",
              "    </tr>\n",
              "    <tr>\n",
              "      <th>...</th>\n",
              "      <td>...</td>\n",
              "      <td>...</td>\n",
              "      <td>...</td>\n",
              "      <td>...</td>\n",
              "      <td>...</td>\n",
              "      <td>...</td>\n",
              "      <td>...</td>\n",
              "      <td>...</td>\n",
              "      <td>...</td>\n",
              "      <td>...</td>\n",
              "      <td>...</td>\n",
              "      <td>...</td>\n",
              "      <td>...</td>\n",
              "      <td>...</td>\n",
              "      <td>...</td>\n",
              "      <td>...</td>\n",
              "      <td>...</td>\n",
              "      <td>...</td>\n",
              "    </tr>\n",
              "    <tr>\n",
              "      <th>1517</th>\n",
              "      <td>1518</td>\n",
              "      <td>15</td>\n",
              "      <td>18</td>\n",
              "      <td>18</td>\n",
              "      <td>0.000000</td>\n",
              "      <td>3.100000</td>\n",
              "      <td>3.20</td>\n",
              "      <td>4.00</td>\n",
              "      <td>2.05</td>\n",
              "      <td>60.000000</td>\n",
              "      <td>60.000000</td>\n",
              "      <td>60.000000</td>\n",
              "      <td>60.000000</td>\n",
              "      <td>66.944444</td>\n",
              "      <td>73.191489</td>\n",
              "      <td>72.186047</td>\n",
              "      <td>70.078431</td>\n",
              "      <td>A</td>\n",
              "    </tr>\n",
              "    <tr>\n",
              "      <th>1518</th>\n",
              "      <td>1519</td>\n",
              "      <td>23</td>\n",
              "      <td>20</td>\n",
              "      <td>18</td>\n",
              "      <td>17.100000</td>\n",
              "      <td>2.700000</td>\n",
              "      <td>6.50</td>\n",
              "      <td>5.25</td>\n",
              "      <td>1.42</td>\n",
              "      <td>60.000000</td>\n",
              "      <td>60.000000</td>\n",
              "      <td>60.000000</td>\n",
              "      <td>60.000000</td>\n",
              "      <td>74.750000</td>\n",
              "      <td>77.000000</td>\n",
              "      <td>75.975610</td>\n",
              "      <td>79.568182</td>\n",
              "      <td>H</td>\n",
              "    </tr>\n",
              "    <tr>\n",
              "      <th>1519</th>\n",
              "      <td>1520</td>\n",
              "      <td>22</td>\n",
              "      <td>14</td>\n",
              "      <td>18</td>\n",
              "      <td>8.700000</td>\n",
              "      <td>6.000000</td>\n",
              "      <td>2.70</td>\n",
              "      <td>3.60</td>\n",
              "      <td>2.50</td>\n",
              "      <td>69.812500</td>\n",
              "      <td>71.658537</td>\n",
              "      <td>69.490909</td>\n",
              "      <td>72.361111</td>\n",
              "      <td>70.235294</td>\n",
              "      <td>69.314286</td>\n",
              "      <td>70.979592</td>\n",
              "      <td>71.375000</td>\n",
              "      <td>H</td>\n",
              "    </tr>\n",
              "    <tr>\n",
              "      <th>1520</th>\n",
              "      <td>1521</td>\n",
              "      <td>2</td>\n",
              "      <td>1</td>\n",
              "      <td>19</td>\n",
              "      <td>7.200000</td>\n",
              "      <td>11.000000</td>\n",
              "      <td>2.80</td>\n",
              "      <td>3.40</td>\n",
              "      <td>2.40</td>\n",
              "      <td>70.400000</td>\n",
              "      <td>79.865300</td>\n",
              "      <td>77.133333</td>\n",
              "      <td>81.200000</td>\n",
              "      <td>71.368421</td>\n",
              "      <td>73.116279</td>\n",
              "      <td>72.912281</td>\n",
              "      <td>71.447368</td>\n",
              "      <td>H</td>\n",
              "    </tr>\n",
              "    <tr>\n",
              "      <th>1521</th>\n",
              "      <td>1522</td>\n",
              "      <td>16</td>\n",
              "      <td>10</td>\n",
              "      <td>19</td>\n",
              "      <td>9.900000</td>\n",
              "      <td>7.500000</td>\n",
              "      <td>2.45</td>\n",
              "      <td>3.10</td>\n",
              "      <td>3.10</td>\n",
              "      <td>69.333333</td>\n",
              "      <td>70.447368</td>\n",
              "      <td>70.859649</td>\n",
              "      <td>67.488889</td>\n",
              "      <td>69.941176</td>\n",
              "      <td>71.944444</td>\n",
              "      <td>70.132075</td>\n",
              "      <td>71.238095</td>\n",
              "      <td>N</td>\n",
              "    </tr>\n",
              "  </tbody>\n",
              "</table>\n",
              "<p>1522 rows × 18 columns</p>\n",
              "</div>"
            ],
            "text/plain": [
              "        Sl  HT  AT  Year  ...       ADef       AMid        AFw  Result\n",
              "0        1  13  20    15  ...  77.000000  75.975610  79.568182       A\n",
              "1        2  20  23    15  ...  71.658537  69.490909  72.361111       H\n",
              "2        3  18  22    15  ...  69.647059  68.387755  69.794118       A\n",
              "3        4  14   6    15  ...  60.000000  60.000000  60.000000       A\n",
              "4        5  12   9    15  ...  70.100000  70.348837  69.575758       H\n",
              "...    ...  ..  ..   ...  ...        ...        ...        ...     ...\n",
              "1517  1518  15  18    18  ...  73.191489  72.186047  70.078431       A\n",
              "1518  1519  23  20    18  ...  77.000000  75.975610  79.568182       H\n",
              "1519  1520  22  14    18  ...  69.314286  70.979592  71.375000       H\n",
              "1520  1521   2   1    19  ...  73.116279  72.912281  71.447368      H \n",
              "1521  1522  16  10    19  ...  71.944444  70.132075  71.238095       N\n",
              "\n",
              "[1522 rows x 18 columns]"
            ]
          },
          "metadata": {
            "tags": []
          },
          "execution_count": 11
        }
      ]
    },
    {
      "cell_type": "code",
      "metadata": {
        "id": "9H-Aj5YGAqM5",
        "colab_type": "code",
        "colab": {}
      },
      "source": [
        "train=pred.loc[pred[\"Sl\"]!=1522]\n",
        "test=pred.loc[pred[\"Sl\"]==1522]\n",
        "train=train.drop([\"Year\",\"Sl\"],axis=1)\n",
        "test=test.drop([\"Year\",\"Sl\"],axis=1)"
      ],
      "execution_count": 0,
      "outputs": []
    },
    {
      "cell_type": "code",
      "metadata": {
        "id": "LciCB5TtMxM7",
        "colab_type": "code",
        "outputId": "de83f102-5b89-4027-daf1-ee0ca9edbf7d",
        "colab": {
          "base_uri": "https://localhost:8080/",
          "height": 80
        }
      },
      "source": [
        "test"
      ],
      "execution_count": 0,
      "outputs": [
        {
          "output_type": "execute_result",
          "data": {
            "text/html": [
              "<div>\n",
              "<style scoped>\n",
              "    .dataframe tbody tr th:only-of-type {\n",
              "        vertical-align: middle;\n",
              "    }\n",
              "\n",
              "    .dataframe tbody tr th {\n",
              "        vertical-align: top;\n",
              "    }\n",
              "\n",
              "    .dataframe thead th {\n",
              "        text-align: right;\n",
              "    }\n",
              "</style>\n",
              "<table border=\"1\" class=\"dataframe\">\n",
              "  <thead>\n",
              "    <tr style=\"text-align: right;\">\n",
              "      <th></th>\n",
              "      <th>HT</th>\n",
              "      <th>AT</th>\n",
              "      <th>PosnH</th>\n",
              "      <th>PosnA</th>\n",
              "      <th>2H</th>\n",
              "      <th>2D</th>\n",
              "      <th>2A</th>\n",
              "      <th>HGK</th>\n",
              "      <th>HDef</th>\n",
              "      <th>HMid</th>\n",
              "      <th>HFw</th>\n",
              "      <th>AGK</th>\n",
              "      <th>ADef</th>\n",
              "      <th>AMid</th>\n",
              "      <th>AFw</th>\n",
              "      <th>Result</th>\n",
              "    </tr>\n",
              "  </thead>\n",
              "  <tbody>\n",
              "    <tr>\n",
              "      <th>1521</th>\n",
              "      <td>16</td>\n",
              "      <td>10</td>\n",
              "      <td>9.9</td>\n",
              "      <td>7.5</td>\n",
              "      <td>2.45</td>\n",
              "      <td>3.1</td>\n",
              "      <td>3.1</td>\n",
              "      <td>69.333333</td>\n",
              "      <td>70.447368</td>\n",
              "      <td>70.859649</td>\n",
              "      <td>67.488889</td>\n",
              "      <td>69.941176</td>\n",
              "      <td>71.944444</td>\n",
              "      <td>70.132075</td>\n",
              "      <td>71.238095</td>\n",
              "      <td>N</td>\n",
              "    </tr>\n",
              "  </tbody>\n",
              "</table>\n",
              "</div>"
            ],
            "text/plain": [
              "      HT  AT  PosnH  PosnA  ...       ADef       AMid        AFw  Result\n",
              "1521  16  10    9.9    7.5  ...  71.944444  70.132075  71.238095       N\n",
              "\n",
              "[1 rows x 16 columns]"
            ]
          },
          "metadata": {
            "tags": []
          },
          "execution_count": 23
        }
      ]
    },
    {
      "cell_type": "code",
      "metadata": {
        "id": "T0x5xbtrC1wR",
        "colab_type": "code",
        "colab": {}
      },
      "source": [
        "X_train=train.iloc[:,:-1]\n",
        "y_train=train.iloc[:,-1]\n",
        "X_test=test.iloc[:,:-1]\n",
        "y_test=test.iloc[:,-1].tolist()\n"
      ],
      "execution_count": 0,
      "outputs": []
    },
    {
      "cell_type": "code",
      "metadata": {
        "id": "UbCC_J82DPmh",
        "colab_type": "code",
        "outputId": "e40779ea-3c6c-4086-8170-1d65e6d822fd",
        "colab": {
          "base_uri": "https://localhost:8080/",
          "height": 85
        }
      },
      "source": [
        "svm_model=svm.SVC(gamma='scale')\n",
        "svm_model.fit(X_train,y_train)"
      ],
      "execution_count": 0,
      "outputs": [
        {
          "output_type": "execute_result",
          "data": {
            "text/plain": [
              "SVC(C=1.0, cache_size=200, class_weight=None, coef0=0.0,\n",
              "    decision_function_shape='ovr', degree=3, gamma='scale', kernel='rbf',\n",
              "    max_iter=-1, probability=False, random_state=None, shrinking=True,\n",
              "    tol=0.001, verbose=False)"
            ]
          },
          "metadata": {
            "tags": []
          },
          "execution_count": 25
        }
      ]
    },
    {
      "cell_type": "code",
      "metadata": {
        "id": "-ZRTjg_6DsRA",
        "colab_type": "code",
        "colab": {}
      },
      "source": [
        "predc=svm_model.predict(X_test)"
      ],
      "execution_count": 0,
      "outputs": []
    },
    {
      "cell_type": "code",
      "metadata": {
        "id": "-VONXikL_JMo",
        "colab_type": "code",
        "outputId": "724241da-66d1-4c90-f0b8-69a81ef4037c",
        "colab": {
          "base_uri": "https://localhost:8080/",
          "height": 34
        }
      },
      "source": [
        "predc"
      ],
      "execution_count": 0,
      "outputs": [
        {
          "output_type": "execute_result",
          "data": {
            "text/plain": [
              "array(['H'], dtype=object)"
            ]
          },
          "metadata": {
            "tags": []
          },
          "execution_count": 27
        }
      ]
    },
    {
      "cell_type": "code",
      "metadata": {
        "id": "tnzsyy0nFowP",
        "colab_type": "code",
        "colab": {}
      },
      "source": [
        "ct=0\n",
        "for i in range(len(predc)):\n",
        "  if(predc[i]==y_test[i]):\n",
        "    ct+=1"
      ],
      "execution_count": 0,
      "outputs": []
    },
    {
      "cell_type": "code",
      "metadata": {
        "id": "E7Xup0x2FyOo",
        "colab_type": "code",
        "outputId": "fe625b36-b531-4dc3-c34d-71c3d000d033",
        "colab": {
          "base_uri": "https://localhost:8080/",
          "height": 35
        }
      },
      "source": [
        "ct"
      ],
      "execution_count": 0,
      "outputs": [
        {
          "output_type": "execute_result",
          "data": {
            "text/plain": [
              "1"
            ]
          },
          "metadata": {
            "tags": []
          },
          "execution_count": 76
        }
      ]
    },
    {
      "cell_type": "code",
      "metadata": {
        "id": "3S4THksNGJQs",
        "colab_type": "code",
        "colab": {}
      },
      "source": [
        "from sklearn.neural_network import MLPClassifier"
      ],
      "execution_count": 0,
      "outputs": []
    },
    {
      "cell_type": "code",
      "metadata": {
        "id": "wbPXtgA1GdNX",
        "colab_type": "code",
        "colab": {}
      },
      "source": [
        "clf = MLPClassifier(solver='lbfgs', alpha=1e-6)"
      ],
      "execution_count": 0,
      "outputs": []
    },
    {
      "cell_type": "code",
      "metadata": {
        "id": "qXQjZmpIGqIM",
        "colab_type": "code",
        "outputId": "f4aa16d4-f33c-40ff-b14d-9e7a1def766c",
        "colab": {
          "base_uri": "https://localhost:8080/",
          "height": 136
        }
      },
      "source": [
        "clf.fit(X_train,y_train)"
      ],
      "execution_count": 0,
      "outputs": [
        {
          "output_type": "execute_result",
          "data": {
            "text/plain": [
              "MLPClassifier(activation='relu', alpha=1e-06, batch_size='auto', beta_1=0.9,\n",
              "              beta_2=0.999, early_stopping=False, epsilon=1e-08,\n",
              "              hidden_layer_sizes=(100,), learning_rate='constant',\n",
              "              learning_rate_init=0.001, max_iter=200, momentum=0.9,\n",
              "              n_iter_no_change=10, nesterovs_momentum=True, power_t=0.5,\n",
              "              random_state=None, shuffle=True, solver='lbfgs', tol=0.0001,\n",
              "              validation_fraction=0.1, verbose=False, warm_start=False)"
            ]
          },
          "metadata": {
            "tags": []
          },
          "execution_count": 30
        }
      ]
    },
    {
      "cell_type": "code",
      "metadata": {
        "id": "E9ufuzYnGudF",
        "colab_type": "code",
        "colab": {}
      },
      "source": [
        "pred_mlp=clf.predict(X_test)"
      ],
      "execution_count": 0,
      "outputs": []
    },
    {
      "cell_type": "code",
      "metadata": {
        "id": "VjWY1Uc2NAEG",
        "colab_type": "code",
        "outputId": "c9c69c32-aab8-4b8d-c249-b67cde6828be",
        "colab": {
          "base_uri": "https://localhost:8080/",
          "height": 34
        }
      },
      "source": [
        "pred_mlp"
      ],
      "execution_count": 0,
      "outputs": [
        {
          "output_type": "execute_result",
          "data": {
            "text/plain": [
              "array(['H'], dtype='<U2')"
            ]
          },
          "metadata": {
            "tags": []
          },
          "execution_count": 32
        }
      ]
    },
    {
      "cell_type": "code",
      "metadata": {
        "id": "XdcWPHRlGxvM",
        "colab_type": "code",
        "colab": {}
      },
      "source": [
        "ct2=0\n",
        "for i in range(len(pred_mlp)):\n",
        "  if(pred_mlp[i]==y_test[i]):\n",
        "    ct2+=1"
      ],
      "execution_count": 0,
      "outputs": []
    },
    {
      "cell_type": "code",
      "metadata": {
        "id": "kMyAWUeUG7_V",
        "colab_type": "code",
        "outputId": "ee9038f1-f183-446a-d389-50f64e759931",
        "colab": {
          "base_uri": "https://localhost:8080/",
          "height": 35
        }
      },
      "source": [
        " ct2"
      ],
      "execution_count": 0,
      "outputs": [
        {
          "output_type": "execute_result",
          "data": {
            "text/plain": [
              "0"
            ]
          },
          "metadata": {
            "tags": []
          },
          "execution_count": 85
        }
      ]
    },
    {
      "cell_type": "code",
      "metadata": {
        "id": "tkRhHQBDtAEG",
        "colab_type": "code",
        "colab": {}
      },
      "source": [
        "from sklearn.ensemble import AdaBoostClassifier"
      ],
      "execution_count": 0,
      "outputs": []
    },
    {
      "cell_type": "code",
      "metadata": {
        "id": "L-IYLMvyvso5",
        "colab_type": "code",
        "colab": {}
      },
      "source": [
        "clf=AdaBoostClassifier(n_estimators=9)"
      ],
      "execution_count": 0,
      "outputs": []
    },
    {
      "cell_type": "code",
      "metadata": {
        "id": "D-4zVsdGv1l6",
        "colab_type": "code",
        "outputId": "b8e9ea6c-9cec-4871-d48d-fca9d4990019",
        "colab": {
          "base_uri": "https://localhost:8080/",
          "height": 51
        }
      },
      "source": [
        "clf.fit(X_train,y_train)"
      ],
      "execution_count": 0,
      "outputs": [
        {
          "output_type": "execute_result",
          "data": {
            "text/plain": [
              "AdaBoostClassifier(algorithm='SAMME.R', base_estimator=None, learning_rate=1.0,\n",
              "                   n_estimators=9, random_state=None)"
            ]
          },
          "metadata": {
            "tags": []
          },
          "execution_count": 35
        }
      ]
    },
    {
      "cell_type": "code",
      "metadata": {
        "id": "ex516lU1wD2P",
        "colab_type": "code",
        "colab": {}
      },
      "source": [
        "prd=clf.predict(X_test)"
      ],
      "execution_count": 0,
      "outputs": []
    },
    {
      "cell_type": "code",
      "metadata": {
        "id": "oIxDel4o_er8",
        "colab_type": "code",
        "outputId": "492d6626-69b4-40b5-8e34-fa55b9e04640",
        "colab": {
          "base_uri": "https://localhost:8080/",
          "height": 34
        }
      },
      "source": [
        "prd"
      ],
      "execution_count": 0,
      "outputs": [
        {
          "output_type": "execute_result",
          "data": {
            "text/plain": [
              "array(['A'], dtype=object)"
            ]
          },
          "metadata": {
            "tags": []
          },
          "execution_count": 37
        }
      ]
    },
    {
      "cell_type": "code",
      "metadata": {
        "id": "0nHjKyGswIlO",
        "colab_type": "code",
        "colab": {}
      },
      "source": [
        "ct=0\n",
        "for i in range(len(prd)):\n",
        "  if(prd[i]==y_test[i]):\n",
        "    ct+=1"
      ],
      "execution_count": 0,
      "outputs": []
    },
    {
      "cell_type": "code",
      "metadata": {
        "id": "ZBjEP3EawWye",
        "colab_type": "code",
        "outputId": "779e9e99-6705-4d96-ea8a-cfe588e3964a",
        "colab": {
          "base_uri": "https://localhost:8080/",
          "height": 35
        }
      },
      "source": [
        "ct"
      ],
      "execution_count": 0,
      "outputs": [
        {
          "output_type": "execute_result",
          "data": {
            "text/plain": [
              "0"
            ]
          },
          "metadata": {
            "tags": []
          },
          "execution_count": 92
        }
      ]
    },
    {
      "cell_type": "code",
      "metadata": {
        "id": "70FcPrqaD9A-",
        "colab_type": "code",
        "colab": {}
      },
      "source": [
        ""
      ],
      "execution_count": 0,
      "outputs": []
    }
  ]
}